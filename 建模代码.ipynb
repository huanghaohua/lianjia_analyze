{
 "cells": [
  {
   "cell_type": "code",
   "execution_count": 1,
   "metadata": {},
   "outputs": [],
   "source": [
    "import pandas as pd\n",
    "import numpy as np\n",
    "import math\n",
    "import matplotlib.pyplot as plt\n",
    "import matplotlib\n",
    "import seaborn as sns\n",
    "import statsmodels.api as sm\n",
    "from statsmodels.formula.api import ols\n",
    "from numpy import corrcoef,array\n",
    "import warnings\n",
    "warnings.filterwarnings('ignore')"
   ]
  },
  {
   "cell_type": "code",
   "execution_count": 3,
   "metadata": {},
   "outputs": [
    {
     "data": {
      "text/html": [
       "<div>\n",
       "<style scoped>\n",
       "    .dataframe tbody tr th:only-of-type {\n",
       "        vertical-align: middle;\n",
       "    }\n",
       "\n",
       "    .dataframe tbody tr th {\n",
       "        vertical-align: top;\n",
       "    }\n",
       "\n",
       "    .dataframe thead th {\n",
       "        text-align: right;\n",
       "    }\n",
       "</style>\n",
       "<table border=\"1\" class=\"dataframe\">\n",
       "  <thead>\n",
       "    <tr style=\"text-align: right;\">\n",
       "      <th></th>\n",
       "      <th>area</th>\n",
       "      <th>built_date</th>\n",
       "      <th>elevator</th>\n",
       "      <th>floor</th>\n",
       "      <th>house_decorate</th>\n",
       "      <th>house_orientation</th>\n",
       "      <th>house_position</th>\n",
       "      <th>room_num</th>\n",
       "      <th>keting_num</th>\n",
       "      <th>subway</th>\n",
       "      <th>unit_price</th>\n",
       "    </tr>\n",
       "  </thead>\n",
       "  <tbody>\n",
       "    <tr>\n",
       "      <th>0</th>\n",
       "      <td>437.00</td>\n",
       "      <td>2016</td>\n",
       "      <td>1</td>\n",
       "      <td>中楼层</td>\n",
       "      <td>精装</td>\n",
       "      <td>南</td>\n",
       "      <td>天河</td>\n",
       "      <td>4</td>\n",
       "      <td>2</td>\n",
       "      <td>0</td>\n",
       "      <td>12.2884</td>\n",
       "    </tr>\n",
       "    <tr>\n",
       "      <th>1</th>\n",
       "      <td>91.27</td>\n",
       "      <td>2013</td>\n",
       "      <td>1</td>\n",
       "      <td>高楼层</td>\n",
       "      <td>精装</td>\n",
       "      <td>东南</td>\n",
       "      <td>天河</td>\n",
       "      <td>3</td>\n",
       "      <td>2</td>\n",
       "      <td>1</td>\n",
       "      <td>11.6139</td>\n",
       "    </tr>\n",
       "    <tr>\n",
       "      <th>2</th>\n",
       "      <td>30.00</td>\n",
       "      <td>2003</td>\n",
       "      <td>1</td>\n",
       "      <td>中楼层</td>\n",
       "      <td>简装</td>\n",
       "      <td>北</td>\n",
       "      <td>天河</td>\n",
       "      <td>1</td>\n",
       "      <td>0</td>\n",
       "      <td>0</td>\n",
       "      <td>11.1667</td>\n",
       "    </tr>\n",
       "    <tr>\n",
       "      <th>3</th>\n",
       "      <td>67.00</td>\n",
       "      <td>2014</td>\n",
       "      <td>1</td>\n",
       "      <td>高楼层</td>\n",
       "      <td>精装</td>\n",
       "      <td>东北</td>\n",
       "      <td>天河</td>\n",
       "      <td>2</td>\n",
       "      <td>2</td>\n",
       "      <td>1</td>\n",
       "      <td>10.8956</td>\n",
       "    </tr>\n",
       "    <tr>\n",
       "      <th>4</th>\n",
       "      <td>66.95</td>\n",
       "      <td>2014</td>\n",
       "      <td>1</td>\n",
       "      <td>中楼层</td>\n",
       "      <td>精装</td>\n",
       "      <td>东</td>\n",
       "      <td>天河</td>\n",
       "      <td>2</td>\n",
       "      <td>2</td>\n",
       "      <td>1</td>\n",
       "      <td>10.7543</td>\n",
       "    </tr>\n",
       "  </tbody>\n",
       "</table>\n",
       "</div>"
      ],
      "text/plain": [
       "     area  built_date  elevator floor house_decorate house_orientation  \\\n",
       "0  437.00        2016         1   中楼层             精装                 南   \n",
       "1   91.27        2013         1   高楼层             精装                东南   \n",
       "2   30.00        2003         1   中楼层             简装                 北   \n",
       "3   67.00        2014         1   高楼层             精装                东北   \n",
       "4   66.95        2014         1   中楼层             精装                 东   \n",
       "\n",
       "  house_position  room_num  keting_num  subway  unit_price  \n",
       "0             天河         4           2       0     12.2884  \n",
       "1             天河         3           2       1     11.6139  \n",
       "2             天河         1           0       0     11.1667  \n",
       "3             天河         2           2       1     10.8956  \n",
       "4             天河         2           2       1     10.7543  "
      ]
     },
     "execution_count": 3,
     "metadata": {},
     "output_type": "execute_result"
    }
   ],
   "source": [
    "data = pd.read_excel(r'C:\\Users\\11060\\Desktop\\毕业论文数据集\\house_info.xlsx')\n",
    "data.head()"
   ]
  },
  {
   "cell_type": "code",
   "execution_count": 4,
   "metadata": {},
   "outputs": [],
   "source": [
    "matplotlib.rcParams['axes.unicode_minus']=False  #解决保存图像时负号'-'显示为方块的问题\n",
    "plt.rcParams['font.sans-serif'] = ['SimHei']   #指定默认字体 "
   ]
  },
  {
   "cell_type": "code",
   "execution_count": 5,
   "metadata": {},
   "outputs": [
    {
     "data": {
      "text/html": [
       "<div>\n",
       "<style scoped>\n",
       "    .dataframe tbody tr th:only-of-type {\n",
       "        vertical-align: middle;\n",
       "    }\n",
       "\n",
       "    .dataframe tbody tr th {\n",
       "        vertical-align: top;\n",
       "    }\n",
       "\n",
       "    .dataframe thead th {\n",
       "        text-align: right;\n",
       "    }\n",
       "</style>\n",
       "<table border=\"1\" class=\"dataframe\">\n",
       "  <thead>\n",
       "    <tr style=\"text-align: right;\">\n",
       "      <th></th>\n",
       "      <th>天河</th>\n",
       "      <th>海珠</th>\n",
       "      <th>白云</th>\n",
       "      <th>番禺</th>\n",
       "      <th>荔湾</th>\n",
       "      <th>黄埔</th>\n",
       "      <th>越秀</th>\n",
       "      <th>增城</th>\n",
       "      <th>花都</th>\n",
       "    </tr>\n",
       "  </thead>\n",
       "  <tbody>\n",
       "    <tr>\n",
       "      <th>value_counts</th>\n",
       "      <td>2390</td>\n",
       "      <td>2295</td>\n",
       "      <td>1740</td>\n",
       "      <td>1652</td>\n",
       "      <td>883</td>\n",
       "      <td>867</td>\n",
       "      <td>474</td>\n",
       "      <td>327</td>\n",
       "      <td>250</td>\n",
       "    </tr>\n",
       "  </tbody>\n",
       "</table>\n",
       "</div>"
      ],
      "text/plain": [
       "                天河    海珠    白云    番禺   荔湾   黄埔   越秀   增城   花都\n",
       "value_counts  2390  2295  1740  1652  883  867  474  327  250"
      ]
     },
     "execution_count": 5,
     "metadata": {},
     "output_type": "execute_result"
    },
    {
     "data": {
      "image/png": "[encoded data removed]",
      "text/plain": [
       "<Figure size 720x720 with 1 Axes>"
      ]
     },
     "metadata": {},
     "output_type": "display_data"
    }
   ],
   "source": [
    "data.house_position.value_counts().plot.pie(autopct='%.2f%%',fontsize=12,figsize=(10,10))\n",
    "data.house_position.agg(['value_counts']).T"
   ]
  },
  {
   "cell_type": "code",
   "execution_count": 6,
   "metadata": {},
   "outputs": [
    {
     "data": {
      "text/plain": [
       "<matplotlib.axes._subplots.AxesSubplot at 0x204b05d9748>"
      ]
     },
     "execution_count": 6,
     "metadata": {},
     "output_type": "execute_result"
    },
    {
     "data": {
      "image/png": "[encoded data removed]",
      "text/plain": [
       "<Figure size 432x288 with 1 Axes>"
      ]
     },
     "metadata": {
      "needs_background": "light"
     },
     "output_type": "display_data"
    }
   ],
   "source": [
    "data.unit_price.groupby(data.house_position).mean().sort_values(ascending=True).plot.bar()"
   ]
  },
  {
   "cell_type": "code",
   "execution_count": 7,
   "metadata": {},
   "outputs": [
    {
     "name": "stderr",
     "output_type": "stream",
     "text": [
      "ERROR:lml.utils:failed to import pyecharts_snapshot\n",
      "Traceback (most recent call last):\n",
      "  File \"c:\\users\\11060\\appdata\\local\\programs\\python\\python36\\lib\\site-packages\\lml\\utils.py\", line 43, in do_import\n",
      "    plugin_module = __import__(plugin_module_name)\n",
      "ModuleNotFoundError: No module named 'pyecharts_snapshot'\n"
     ]
    }
   ],
   "source": [
    "from pyecharts import Map\n",
    "from pyecharts import Geo"
   ]
  },
  {
   "cell_type": "code",
   "execution_count": 10,
   "metadata": {},
   "outputs": [],
   "source": [
    "quyu = ['花都区','增城区','番禺区','白云区','黄埔区','荔湾区','海珠区','越秀区','天河区']\n",
    "danjia = [1.403236,1.561185,2.104040,2.154553,2.244508,2.445613,3.064517,3.689216,3.956770]\n",
    "map3 = Map(\"广州单价图\", width=1000, height=1000)\n",
    "map3.add(\"\", quyu, danjia, visual_range=[1, 5], maptype='广州', is_visualmap=True,is_label_show=True,visual_text_color='#000')\n",
    "map3.render(path=\"广州地图.html\")"
   ]
  },
  {
   "cell_type": "code",
   "execution_count": 8,
   "metadata": {},
   "outputs": [
    {
     "data": {
      "text/plain": [
       "Text(0.5, 0, '单位房价')"
      ]
     },
     "execution_count": 8,
     "metadata": {},
     "output_type": "execute_result"
    },
    {
     "data": {
      "image/png": "[encoded data removed]",
      "text/plain": [
       "<Figure size 432x288 with 1 Axes>"
      ]
     },
     "metadata": {
      "needs_background": "light"
     },
     "output_type": "display_data"
    }
   ],
   "source": [
    "data.unit_price.groupby(data.house_position).mean().sort_values(ascending=True).plot(kind='barh')\n",
    "plt.xlabel('单位房价')"
   ]
  },
  {
   "cell_type": "code",
   "execution_count": 9,
   "metadata": {},
   "outputs": [
    {
     "data": {
      "text/plain": [
       "Text(0, 0.5, '单位房价')"
      ]
     },
     "execution_count": 9,
     "metadata": {},
     "output_type": "execute_result"
    },
    {
     "data": {
      "image/png": "[encoded data removed]",
      "text/plain": [
       "<Figure size 432x288 with 1 Axes>"
      ]
     },
     "metadata": {
      "needs_background": "light"
     },
     "output_type": "display_data"
    }
   ],
   "source": [
    "data_1 = data[['house_position','unit_price']]\n",
    "data_1.house_position = data_1.house_position.astype('category')\n",
    "data_1.house_position.cat.set_categories(['花都','增城','番禺','白云','黄埔','荔湾','海珠','越秀','天河'],inplace=True)\n",
    "sns.boxplot(x='house_position',y='unit_price',data=data_1)\n",
    "plt.title(\"各区域房价分组箱线图\")\n",
    "plt.xlabel('地区')\n",
    "plt.ylabel('单位房价')"
   ]
  },
  {
   "cell_type": "code",
   "execution_count": 10,
   "metadata": {},
   "outputs": [
    {
     "data": {
      "text/plain": [
       "Text(0.5, 0, '房间数量')"
      ]
     },
     "execution_count": 10,
     "metadata": {},
     "output_type": "execute_result"
    },
    {
     "data": {
      "image/png": "[encoded data removed]",
      "text/plain": [
       "<Figure size 432x288 with 1 Axes>"
      ]
     },
     "metadata": {
      "needs_background": "light"
     },
     "output_type": "display_data"
    },
    {
     "data": {
      "image/png": "[encoded data removed]",
      "text/plain": [
       "<Figure size 432x288 with 1 Axes>"
      ]
     },
     "metadata": {
      "needs_background": "light"
     },
     "output_type": "display_data"
    }
   ],
   "source": [
    "data_2 = data[['room_num','unit_price']]\n",
    "data_2.unit_price.groupby(data_2.room_num).mean().plot(kind='bar')\n",
    "plt.xlabel('房间数量')\n",
    "data_2.boxplot(by='room_num',patch_artist=True)\n",
    "plt.xlabel('房间数量')"
   ]
  },
  {
   "cell_type": "code",
   "execution_count": 11,
   "metadata": {},
   "outputs": [
    {
     "data": {
      "text/plain": [
       "Text(0.5, 0, '客厅数量')"
      ]
     },
     "execution_count": 11,
     "metadata": {},
     "output_type": "execute_result"
    },
    {
     "data": {
      "image/png": "[encoded data removed]",
      "text/plain": [
       "<Figure size 432x288 with 1 Axes>"
      ]
     },
     "metadata": {
      "needs_background": "light"
     },
     "output_type": "display_data"
    },
    {
     "data": {
      "image/png": "[encoded data removed]",
      "text/plain": [
       "<Figure size 432x288 with 1 Axes>"
      ]
     },
     "metadata": {
      "needs_background": "light"
     },
     "output_type": "display_data"
    }
   ],
   "source": [
    "data_3 = data[['keting_num','unit_price']]\n",
    "data_3.unit_price.groupby(data_3.keting_num).mean().plot(kind='bar')\n",
    "plt.xlabel('客厅数量')\n",
    "data_3.boxplot(by='keting_num',patch_artist=True)\n",
    "plt.xlabel('客厅数量')"
   ]
  },
  {
   "cell_type": "markdown",
   "metadata": {},
   "source": [
    "楼层之间差距很小，相关性弱"
   ]
  },
  {
   "cell_type": "code",
   "execution_count": 12,
   "metadata": {},
   "outputs": [
    {
     "data": {
      "text/plain": [
       "Text(0.5, 0, '楼层')"
      ]
     },
     "execution_count": 12,
     "metadata": {},
     "output_type": "execute_result"
    },
    {
     "data": {
      "image/png": "[encoded data removed]",
      "text/plain": [
       "<Figure size 432x288 with 1 Axes>"
      ]
     },
     "metadata": {
      "needs_background": "light"
     },
     "output_type": "display_data"
    }
   ],
   "source": [
    "data_4=data[['floor','unit_price']]\n",
    "data_4.floor=data_4.floor.astype(\"category\")\n",
    "data_4.floor.cat.set_categories([\"低楼层\",\"中楼层\",\"高楼层\"],inplace=True)\n",
    "data_4.sort_values(by=['floor'],inplace=True)\n",
    "data_4.boxplot(by='floor',patch_artist=True)\n",
    "plt.xlabel('楼层')"
   ]
  },
  {
   "cell_type": "markdown",
   "metadata": {},
   "source": [
    "地铁和电梯对房价影响显著"
   ]
  },
  {
   "cell_type": "code",
   "execution_count": 13,
   "metadata": {},
   "outputs": [
    {
     "data": {
      "text/plain": [
       "Text(0.5, 0, '电梯')"
      ]
     },
     "execution_count": 13,
     "metadata": {},
     "output_type": "execute_result"
    },
    {
     "data": {
      "image/png": "[encoded data removed]",
      "text/plain": [
       "<Figure size 432x288 with 1 Axes>"
      ]
     },
     "metadata": {
      "needs_background": "light"
     },
     "output_type": "display_data"
    },
    {
     "data": {
      "image/png": "[encoded data removed]",
      "text/plain": [
       "<Figure size 432x288 with 1 Axes>"
      ]
     },
     "metadata": {
      "needs_background": "light"
     },
     "output_type": "display_data"
    }
   ],
   "source": [
    "data_5 = data[['subway','unit_price']]\n",
    "data_6 = data[['elevator','unit_price']]\n",
    "data_5.boxplot(by='subway',patch_artist=True)\n",
    "plt.xlabel('地铁')\n",
    "data_6.boxplot(by='elevator',patch_artist=True)\n",
    "plt.xlabel('电梯')"
   ]
  },
  {
   "cell_type": "code",
   "execution_count": 14,
   "metadata": {},
   "outputs": [
    {
     "data": {
      "text/plain": [
       "Text(0.5, 0, '装修类型')"
      ]
     },
     "execution_count": 14,
     "metadata": {},
     "output_type": "execute_result"
    },
    {
     "data": {
      "image/png": "[encoded data removed]",
      "text/plain": [
       "<Figure size 432x288 with 1 Axes>"
      ]
     },
     "metadata": {
      "needs_background": "light"
     },
     "output_type": "display_data"
    },
    {
     "data": {
      "image/png": "[encoded data removed]",
      "text/plain": [
       "<Figure size 432x288 with 1 Axes>"
      ]
     },
     "metadata": {
      "needs_background": "light"
     },
     "output_type": "display_data"
    }
   ],
   "source": [
    "data_7 = data[['house_decorate','unit_price']]\n",
    "data_7.unit_price.groupby(data_7.house_decorate).mean().plot(kind='bar')\n",
    "plt.xlabel('装修类型')\n",
    "data_7.boxplot(by='house_decorate',patch_artist=True)\n",
    "plt.xlabel('装修类型')"
   ]
  },
  {
   "cell_type": "markdown",
   "metadata": {},
   "source": [
    "装修类型对房价的单因素方差分析"
   ]
  },
  {
   "cell_type": "code",
   "execution_count": 37,
   "metadata": {},
   "outputs": [
    {
     "name": "stdout",
     "output_type": "stream",
     "text": [
      "装修类型的单因素方差分析P值： 6.978866153481211e-10\n"
     ]
    }
   ],
   "source": [
    "from statsmodels.stats.anova import anova_lm\n",
    "model = ols('unit_price ~ C(house_decorate)',data = data_7).fit()\n",
    "print('装修类型的单因素方差分析P值：',anova_lm(model)._values[0][4])"
   ]
  },
  {
   "cell_type": "code",
   "execution_count": null,
   "metadata": {},
   "outputs": [],
   "source": []
  },
  {
   "cell_type": "code",
   "execution_count": null,
   "metadata": {},
   "outputs": [],
   "source": []
  },
  {
   "cell_type": "markdown",
   "metadata": {},
   "source": [
    "画出单价和面积的直方图和拟合标准正态分布图、QQ图"
   ]
  },
  {
   "cell_type": "code",
   "execution_count": 15,
   "metadata": {},
   "outputs": [
    {
     "data": {
      "image/png": "[encoded data removed]",
      "text/plain": [
       "<Figure size 432x288 with 1 Axes>"
      ]
     },
     "metadata": {
      "needs_background": "light"
     },
     "output_type": "display_data"
    },
    {
     "data": {
      "image/png": "[encoded data removed]",
      "text/plain": [
       "<Figure size 432x288 with 1 Axes>"
      ]
     },
     "metadata": {
      "needs_background": "light"
     },
     "output_type": "display_data"
    }
   ],
   "source": [
    "from scipy.stats import *\n",
    "from sklearn.preprocessing import StandardScaler\n",
    "from scipy import stats\n",
    "sns.distplot(data['unit_price'],fit=norm)\n",
    "fig = plt.figure()\n",
    "plt.xlabel('单位单价(万/平方)')\n",
    "res = stats.probplot(data.unit_price,plot=plt)\n",
    "plt.show()"
   ]
  },
  {
   "cell_type": "code",
   "execution_count": 16,
   "metadata": {},
   "outputs": [
    {
     "data": {
      "image/png": "[encoded data removed]",
      "text/plain": [
       "<Figure size 432x288 with 1 Axes>"
      ]
     },
     "metadata": {
      "needs_background": "light"
     },
     "output_type": "display_data"
    },
    {
     "data": {
      "image/png": "[encoded data removed]",
      "text/plain": [
       "<Figure size 432x288 with 1 Axes>"
      ]
     },
     "metadata": {
      "needs_background": "light"
     },
     "output_type": "display_data"
    }
   ],
   "source": [
    "sns.distplot(data['area'],fit=norm)\n",
    "fig = plt.figure()\n",
    "plt.xlabel('面积')\n",
    "res = stats.probplot(data.area,plot=plt)\n",
    "plt.show()"
   ]
  },
  {
   "cell_type": "markdown",
   "metadata": {},
   "source": [
    "对面积和单价分别求对数，得出新的QQ图和拟合标准正态分布图"
   ]
  },
  {
   "cell_type": "code",
   "execution_count": 17,
   "metadata": {},
   "outputs": [
    {
     "data": {
      "image/png": "[encoded data removed]",
      "text/plain": [
       "<Figure size 432x288 with 1 Axes>"
      ]
     },
     "metadata": {
      "needs_background": "light"
     },
     "output_type": "display_data"
    },
    {
     "data": {
      "image/png": "[encoded data removed]",
      "text/plain": [
       "<Figure size 432x288 with 1 Axes>"
      ]
     },
     "metadata": {
      "needs_background": "light"
     },
     "output_type": "display_data"
    }
   ],
   "source": [
    "data['unit_price_ln'] = np.log(data.unit_price)\n",
    "sns.distplot(data['unit_price_ln'],fit=norm)\n",
    "fig = plt.figure()\n",
    "res = stats.probplot(data.unit_price_ln,plot=plt)\n",
    "plt.show()"
   ]
  },
  {
   "cell_type": "code",
   "execution_count": 18,
   "metadata": {},
   "outputs": [
    {
     "data": {
      "image/png": "[encoded data removed]",
      "text/plain": [
       "<Figure size 432x288 with 1 Axes>"
      ]
     },
     "metadata": {
      "needs_background": "light"
     },
     "output_type": "display_data"
    },
    {
     "data": {
      "image/png": "[encoded data removed]",
      "text/plain": [
       "<Figure size 432x288 with 1 Axes>"
      ]
     },
     "metadata": {
      "needs_background": "light"
     },
     "output_type": "display_data"
    }
   ],
   "source": [
    "data['area_ln'] = np.log(data.area)\n",
    "sns.distplot(data['area_ln'],fit=norm)\n",
    "fig = plt.figure()\n",
    "res = stats.probplot(data.area_ln,plot=plt)\n",
    "plt.show()"
   ]
  },
  {
   "cell_type": "code",
   "execution_count": 19,
   "metadata": {},
   "outputs": [],
   "source": [
    "def get_sample(df, sampling=\"simple_random\", k=1, stratified_col=None):\n",
    "    \"\"\"\n",
    "    对输入的 dataframe 进行抽样的函数\n",
    "\n",
    "    参数:\n",
    "        - df: 输入的数据框 pandas.dataframe 对象\n",
    "\n",
    "        - sampling:抽样方法 str\n",
    "            可选值有 [\"simple_random\", \"stratified\", \"systematic\"]\n",
    "            按顺序分别为: 简单随机抽样、分层抽样、系统抽样\n",
    "\n",
    "        - k: 抽样个数或抽样比例 int or float\n",
    "            (int, 则必须大于0; float, 则必须在区间(0,1)中)\n",
    "            如果 0 < k < 1 , 则 k 表示抽样对于总体的比例\n",
    "            如果 k >= 1 , 则 k 表示抽样的个数；当为分层抽样时，代表每层的样本量\n",
    "\n",
    "        - stratified_col: 需要分层的列名的列表 list\n",
    "            只有在分层抽样时才生效\n",
    "\n",
    "    返回值:\n",
    "        pandas.dataframe 对象, 抽样结果\n",
    "    \"\"\"\n",
    "    import random\n",
    "    import pandas as pd\n",
    "    from functools import reduce\n",
    "    import numpy as np\n",
    "    import math\n",
    "    \n",
    "    len_df = len(df)\n",
    "    if k <= 0:\n",
    "        raise AssertionError(\"k不能为负数\")\n",
    "    elif k >= 1:\n",
    "        assert isinstance(k, int), \"选择抽样个数时, k必须为正整数\"\n",
    "        sample_by_n=True\n",
    "        if sampling is \"stratified\":\n",
    "            alln=k*df.groupby(by=stratified_col)[stratified_col[0]].count().count() # 有问题的\n",
    "            #alln=k*df[stratified_col].value_counts().count() \n",
    "            if alln >= len_df:\n",
    "                raise AssertionError(\"请确认k乘以层数不能超过总样本量\")\n",
    "    else:\n",
    "        sample_by_n=False\n",
    "        if sampling in (\"simple_random\", \"systematic\"):\n",
    "            k = math.ceil(len_df * k)\n",
    "        \n",
    "    #print(k)\n",
    "\n",
    "    if sampling is \"simple_random\":\n",
    "        print(\"使用简单随机抽样\")\n",
    "        idx = random.sample(range(len_df), k)\n",
    "        res_df = df.iloc[idx,:].copy()\n",
    "        return res_df\n",
    "\n",
    "    elif sampling is \"systematic\":\n",
    "        print(\"使用系统抽样\")\n",
    "        step = len_df // k+1          #step=len_df//k-1\n",
    "        start = 0                  #start=0\n",
    "        idx = range(len_df)[start::step]  #idx=range(len_df+1)[start::step]\n",
    "        res_df = df.iloc[idx,:].copy()\n",
    "        #print(\"k=%d,step=%d,idx=%d\"%(k,step,len(idx)))\n",
    "        return res_df\n",
    "\n",
    "    elif sampling is \"stratified\":\n",
    "        assert stratified_col is not None, \"请传入包含需要分层的列名的列表\"\n",
    "        assert all(np.in1d(stratified_col, df.columns)), \"请检查输入的列名\"\n",
    "        \n",
    "        grouped = df.groupby(by=stratified_col)[stratified_col[0]].count()\n",
    "        if sample_by_n==True:\n",
    "            group_k = grouped.map(lambda x:k)\n",
    "        else:\n",
    "            group_k = grouped.map(lambda x: math.ceil(x * k))\n",
    "        \n",
    "        res_df = df.head(0)\n",
    "        for df_idx in group_k.index:\n",
    "            df1=df\n",
    "            if len(stratified_col)==1:\n",
    "                df1=df1[df1[stratified_col[0]]==df_idx]\n",
    "            else:\n",
    "                for i in range(len(df_idx)):\n",
    "                    df1=df1[df1[stratified_col[i]]==df_idx[i]]\n",
    "            idx = random.sample(range(len(df1)), group_k[df_idx])\n",
    "            group_df = df1.iloc[idx,:].copy()\n",
    "            res_df = res_df.append(group_df)\n",
    "        return res_df\n",
    "\n",
    "    else:\n",
    "        raise AssertionError(\"sampling is illegal\")"
   ]
  },
  {
   "cell_type": "code",
   "execution_count": 20,
   "metadata": {},
   "outputs": [
    {
     "name": "stdout",
     "output_type": "stream",
     "text": [
      "(1800, 13)\n"
     ]
    },
    {
     "data": {
      "text/html": [
       "<div>\n",
       "<style scoped>\n",
       "    .dataframe tbody tr th:only-of-type {\n",
       "        vertical-align: middle;\n",
       "    }\n",
       "\n",
       "    .dataframe tbody tr th {\n",
       "        vertical-align: top;\n",
       "    }\n",
       "\n",
       "    .dataframe thead th {\n",
       "        text-align: right;\n",
       "    }\n",
       "</style>\n",
       "<table border=\"1\" class=\"dataframe\">\n",
       "  <thead>\n",
       "    <tr style=\"text-align: right;\">\n",
       "      <th></th>\n",
       "      <th>area</th>\n",
       "      <th>built_date</th>\n",
       "      <th>elevator</th>\n",
       "      <th>floor</th>\n",
       "      <th>house_decorate</th>\n",
       "      <th>house_orientation</th>\n",
       "      <th>house_position</th>\n",
       "      <th>room_num</th>\n",
       "      <th>keting_num</th>\n",
       "      <th>subway</th>\n",
       "      <th>unit_price</th>\n",
       "      <th>unit_price_ln</th>\n",
       "      <th>area_ln</th>\n",
       "    </tr>\n",
       "  </thead>\n",
       "  <tbody>\n",
       "    <tr>\n",
       "      <th>5247</th>\n",
       "      <td>98.99</td>\n",
       "      <td>2011</td>\n",
       "      <td>1</td>\n",
       "      <td>高楼层</td>\n",
       "      <td>精装</td>\n",
       "      <td>北</td>\n",
       "      <td>增城</td>\n",
       "      <td>3</td>\n",
       "      <td>2</td>\n",
       "      <td>0</td>\n",
       "      <td>2.6064</td>\n",
       "      <td>0.957970</td>\n",
       "      <td>4.595019</td>\n",
       "    </tr>\n",
       "    <tr>\n",
       "      <th>10840</th>\n",
       "      <td>210.00</td>\n",
       "      <td>2011</td>\n",
       "      <td>1</td>\n",
       "      <td>高楼层</td>\n",
       "      <td>毛坯</td>\n",
       "      <td>南</td>\n",
       "      <td>增城</td>\n",
       "      <td>4</td>\n",
       "      <td>2</td>\n",
       "      <td>0</td>\n",
       "      <td>0.8810</td>\n",
       "      <td>-0.126698</td>\n",
       "      <td>5.347108</td>\n",
       "    </tr>\n",
       "    <tr>\n",
       "      <th>10662</th>\n",
       "      <td>118.00</td>\n",
       "      <td>2002</td>\n",
       "      <td>1</td>\n",
       "      <td>低楼层</td>\n",
       "      <td>毛坯</td>\n",
       "      <td>北</td>\n",
       "      <td>增城</td>\n",
       "      <td>3</td>\n",
       "      <td>2</td>\n",
       "      <td>0</td>\n",
       "      <td>1.0831</td>\n",
       "      <td>0.079827</td>\n",
       "      <td>4.770685</td>\n",
       "    </tr>\n",
       "    <tr>\n",
       "      <th>10730</th>\n",
       "      <td>148.19</td>\n",
       "      <td>2002</td>\n",
       "      <td>1</td>\n",
       "      <td>中楼层</td>\n",
       "      <td>精装</td>\n",
       "      <td>北</td>\n",
       "      <td>增城</td>\n",
       "      <td>3</td>\n",
       "      <td>2</td>\n",
       "      <td>0</td>\n",
       "      <td>1.0123</td>\n",
       "      <td>0.012225</td>\n",
       "      <td>4.998495</td>\n",
       "    </tr>\n",
       "    <tr>\n",
       "      <th>6479</th>\n",
       "      <td>88.00</td>\n",
       "      <td>2011</td>\n",
       "      <td>1</td>\n",
       "      <td>中楼层</td>\n",
       "      <td>精装</td>\n",
       "      <td>西</td>\n",
       "      <td>增城</td>\n",
       "      <td>2</td>\n",
       "      <td>2</td>\n",
       "      <td>0</td>\n",
       "      <td>2.2728</td>\n",
       "      <td>0.821013</td>\n",
       "      <td>4.477337</td>\n",
       "    </tr>\n",
       "  </tbody>\n",
       "</table>\n",
       "</div>"
      ],
      "text/plain": [
       "         area  built_date  elevator floor house_decorate house_orientation  \\\n",
       "5247    98.99        2011         1   高楼层             精装                 北   \n",
       "10840  210.00        2011         1   高楼层             毛坯                 南   \n",
       "10662  118.00        2002         1   低楼层             毛坯                 北   \n",
       "10730  148.19        2002         1   中楼层             精装                 北   \n",
       "6479    88.00        2011         1   中楼层             精装                 西   \n",
       "\n",
       "      house_position  room_num  keting_num  subway  unit_price  unit_price_ln  \\\n",
       "5247              增城         3           2       0      2.6064       0.957970   \n",
       "10840             增城         4           2       0      0.8810      -0.126698   \n",
       "10662             增城         3           2       0      1.0831       0.079827   \n",
       "10730             增城         3           2       0      1.0123       0.012225   \n",
       "6479              增城         2           2       0      2.2728       0.821013   \n",
       "\n",
       "        area_ln  \n",
       "5247   4.595019  \n",
       "10840  5.347108  \n",
       "10662  4.770685  \n",
       "10730  4.998495  \n",
       "6479   4.477337  "
      ]
     },
     "execution_count": 20,
     "metadata": {},
     "output_type": "execute_result"
    }
   ],
   "source": [
    "data_7 = get_sample(data,sampling=\"stratified\",k=200,stratified_col=['house_position'])\n",
    "print(data_7.shape)\n",
    "data_7.head()"
   ]
  },
  {
   "cell_type": "code",
   "execution_count": 21,
   "metadata": {},
   "outputs": [
    {
     "name": "stdout",
     "output_type": "stream",
     "text": [
      "house_position的P值为:0.0000\n",
      "room_num的P值为:0.0000\n",
      "keting_num的P值为:0.0000\n",
      "floor的P值为:0.1044\n",
      "house_decorate的P值为:0.0000\n",
      "subway的P值为:0.0000\n",
      "elevator的P值为:0.0000\n"
     ]
    }
   ],
   "source": [
    "import statsmodels.api as sm\n",
    "from statsmodels.formula.api import ols\n",
    "\n",
    "print(\"house_position的P值为:%.4f\" %sm.stats.anova_lm(ols('unit_price ~ C(house_position)',data=data_7).fit())._values[0][4])\n",
    "print(\"room_num的P值为:%.4f\" %sm.stats.anova_lm(ols('unit_price ~ C(room_num)',data=data_7).fit())._values[0][4])\n",
    "print(\"keting_num的P值为:%.4f\" %sm.stats.anova_lm(ols('unit_price ~ C(keting_num)',data=data_7).fit())._values[0][4])\n",
    "print(\"floor的P值为:%.4f\" %sm.stats.anova_lm(ols('unit_price ~ C(floor)',data=data_7).fit())._values[0][4])\n",
    "print(\"house_decorate的P值为:%.4f\" %sm.stats.anova_lm(ols('unit_price ~ C(house_decorate)',data=data_7).fit())._values[0][4])\n",
    "print(\"subway的P值为:%.4f\" %sm.stats.anova_lm(ols('unit_price ~ C(subway)',data=data_7).fit())._values[0][4])\n",
    "print(\"elevator的P值为:%.4f\" %sm.stats.anova_lm(ols('unit_price ~ C(elevator)',data=data_7).fit())._values[0][4])"
   ]
  },
  {
   "cell_type": "markdown",
   "metadata": {},
   "source": [
    "可以看出楼层不显著，后面建模可以将楼层去掉"
   ]
  },
  {
   "cell_type": "code",
   "execution_count": 22,
   "metadata": {},
   "outputs": [
    {
     "data": {
      "text/html": [
       "<div>\n",
       "<style scoped>\n",
       "    .dataframe tbody tr th:only-of-type {\n",
       "        vertical-align: middle;\n",
       "    }\n",
       "\n",
       "    .dataframe tbody tr th {\n",
       "        vertical-align: top;\n",
       "    }\n",
       "\n",
       "    .dataframe thead th {\n",
       "        text-align: right;\n",
       "    }\n",
       "</style>\n",
       "<table border=\"1\" class=\"dataframe\">\n",
       "  <thead>\n",
       "    <tr style=\"text-align: right;\">\n",
       "      <th></th>\n",
       "      <th>house_position_增城</th>\n",
       "      <th>house_position_天河</th>\n",
       "      <th>house_position_海珠</th>\n",
       "      <th>house_position_番禺</th>\n",
       "      <th>house_position_白云</th>\n",
       "      <th>house_position_花都</th>\n",
       "      <th>house_position_荔湾</th>\n",
       "      <th>house_position_越秀</th>\n",
       "      <th>house_position_黄埔</th>\n",
       "      <th>floor_中楼层</th>\n",
       "      <th>floor_低楼层</th>\n",
       "      <th>floor_高楼层</th>\n",
       "      <th>house_decorate_毛坯</th>\n",
       "      <th>house_decorate_简装</th>\n",
       "      <th>house_decorate_精装</th>\n",
       "    </tr>\n",
       "  </thead>\n",
       "  <tbody>\n",
       "    <tr>\n",
       "      <th>0</th>\n",
       "      <td>0</td>\n",
       "      <td>1</td>\n",
       "      <td>0</td>\n",
       "      <td>0</td>\n",
       "      <td>0</td>\n",
       "      <td>0</td>\n",
       "      <td>0</td>\n",
       "      <td>0</td>\n",
       "      <td>0</td>\n",
       "      <td>1</td>\n",
       "      <td>0</td>\n",
       "      <td>0</td>\n",
       "      <td>0</td>\n",
       "      <td>0</td>\n",
       "      <td>1</td>\n",
       "    </tr>\n",
       "    <tr>\n",
       "      <th>1</th>\n",
       "      <td>0</td>\n",
       "      <td>1</td>\n",
       "      <td>0</td>\n",
       "      <td>0</td>\n",
       "      <td>0</td>\n",
       "      <td>0</td>\n",
       "      <td>0</td>\n",
       "      <td>0</td>\n",
       "      <td>0</td>\n",
       "      <td>0</td>\n",
       "      <td>0</td>\n",
       "      <td>1</td>\n",
       "      <td>0</td>\n",
       "      <td>0</td>\n",
       "      <td>1</td>\n",
       "    </tr>\n",
       "    <tr>\n",
       "      <th>2</th>\n",
       "      <td>0</td>\n",
       "      <td>1</td>\n",
       "      <td>0</td>\n",
       "      <td>0</td>\n",
       "      <td>0</td>\n",
       "      <td>0</td>\n",
       "      <td>0</td>\n",
       "      <td>0</td>\n",
       "      <td>0</td>\n",
       "      <td>1</td>\n",
       "      <td>0</td>\n",
       "      <td>0</td>\n",
       "      <td>0</td>\n",
       "      <td>1</td>\n",
       "      <td>0</td>\n",
       "    </tr>\n",
       "    <tr>\n",
       "      <th>3</th>\n",
       "      <td>0</td>\n",
       "      <td>1</td>\n",
       "      <td>0</td>\n",
       "      <td>0</td>\n",
       "      <td>0</td>\n",
       "      <td>0</td>\n",
       "      <td>0</td>\n",
       "      <td>0</td>\n",
       "      <td>0</td>\n",
       "      <td>0</td>\n",
       "      <td>0</td>\n",
       "      <td>1</td>\n",
       "      <td>0</td>\n",
       "      <td>0</td>\n",
       "      <td>1</td>\n",
       "    </tr>\n",
       "    <tr>\n",
       "      <th>4</th>\n",
       "      <td>0</td>\n",
       "      <td>1</td>\n",
       "      <td>0</td>\n",
       "      <td>0</td>\n",
       "      <td>0</td>\n",
       "      <td>0</td>\n",
       "      <td>0</td>\n",
       "      <td>0</td>\n",
       "      <td>0</td>\n",
       "      <td>1</td>\n",
       "      <td>0</td>\n",
       "      <td>0</td>\n",
       "      <td>0</td>\n",
       "      <td>0</td>\n",
       "      <td>1</td>\n",
       "    </tr>\n",
       "  </tbody>\n",
       "</table>\n",
       "</div>"
      ],
      "text/plain": [
       "   house_position_增城  house_position_天河  house_position_海珠  house_position_番禺  \\\n",
       "0                  0                  1                  0                  0   \n",
       "1                  0                  1                  0                  0   \n",
       "2                  0                  1                  0                  0   \n",
       "3                  0                  1                  0                  0   \n",
       "4                  0                  1                  0                  0   \n",
       "\n",
       "   house_position_白云  house_position_花都  house_position_荔湾  house_position_越秀  \\\n",
       "0                  0                  0                  0                  0   \n",
       "1                  0                  0                  0                  0   \n",
       "2                  0                  0                  0                  0   \n",
       "3                  0                  0                  0                  0   \n",
       "4                  0                  0                  0                  0   \n",
       "\n",
       "   house_position_黄埔  floor_中楼层  floor_低楼层  floor_高楼层  house_decorate_毛坯  \\\n",
       "0                  0          1          0          0                  0   \n",
       "1                  0          0          0          1                  0   \n",
       "2                  0          1          0          0                  0   \n",
       "3                  0          0          0          1                  0   \n",
       "4                  0          1          0          0                  0   \n",
       "\n",
       "   house_decorate_简装  house_decorate_精装  \n",
       "0                  0                  1  \n",
       "1                  0                  1  \n",
       "2                  1                  0  \n",
       "3                  0                  1  \n",
       "4                  0                  1  "
      ]
     },
     "execution_count": 22,
     "metadata": {},
     "output_type": "execute_result"
    }
   ],
   "source": [
    "data_8=pd.get_dummies(data[['house_position','floor','house_decorate']])\n",
    "data_8.head()"
   ]
  },
  {
   "cell_type": "code",
   "execution_count": 23,
   "metadata": {},
   "outputs": [
    {
     "data": {
      "text/html": [
       "<div>\n",
       "<style scoped>\n",
       "    .dataframe tbody tr th:only-of-type {\n",
       "        vertical-align: middle;\n",
       "    }\n",
       "\n",
       "    .dataframe tbody tr th {\n",
       "        vertical-align: top;\n",
       "    }\n",
       "\n",
       "    .dataframe thead th {\n",
       "        text-align: right;\n",
       "    }\n",
       "</style>\n",
       "<table border=\"1\" class=\"dataframe\">\n",
       "  <thead>\n",
       "    <tr style=\"text-align: right;\">\n",
       "      <th></th>\n",
       "      <th>house_position_天河</th>\n",
       "      <th>house_position_海珠</th>\n",
       "      <th>house_position_番禺</th>\n",
       "      <th>house_position_白云</th>\n",
       "      <th>house_position_花都</th>\n",
       "      <th>house_position_荔湾</th>\n",
       "      <th>house_position_越秀</th>\n",
       "      <th>house_position_黄埔</th>\n",
       "      <th>floor_中楼层</th>\n",
       "      <th>floor_低楼层</th>\n",
       "      <th>house_decorate_简装</th>\n",
       "      <th>house_decorate_精装</th>\n",
       "    </tr>\n",
       "  </thead>\n",
       "  <tbody>\n",
       "    <tr>\n",
       "      <th>0</th>\n",
       "      <td>1</td>\n",
       "      <td>0</td>\n",
       "      <td>0</td>\n",
       "      <td>0</td>\n",
       "      <td>0</td>\n",
       "      <td>0</td>\n",
       "      <td>0</td>\n",
       "      <td>0</td>\n",
       "      <td>1</td>\n",
       "      <td>0</td>\n",
       "      <td>0</td>\n",
       "      <td>1</td>\n",
       "    </tr>\n",
       "    <tr>\n",
       "      <th>1</th>\n",
       "      <td>1</td>\n",
       "      <td>0</td>\n",
       "      <td>0</td>\n",
       "      <td>0</td>\n",
       "      <td>0</td>\n",
       "      <td>0</td>\n",
       "      <td>0</td>\n",
       "      <td>0</td>\n",
       "      <td>0</td>\n",
       "      <td>0</td>\n",
       "      <td>0</td>\n",
       "      <td>1</td>\n",
       "    </tr>\n",
       "    <tr>\n",
       "      <th>2</th>\n",
       "      <td>1</td>\n",
       "      <td>0</td>\n",
       "      <td>0</td>\n",
       "      <td>0</td>\n",
       "      <td>0</td>\n",
       "      <td>0</td>\n",
       "      <td>0</td>\n",
       "      <td>0</td>\n",
       "      <td>1</td>\n",
       "      <td>0</td>\n",
       "      <td>1</td>\n",
       "      <td>0</td>\n",
       "    </tr>\n",
       "    <tr>\n",
       "      <th>3</th>\n",
       "      <td>1</td>\n",
       "      <td>0</td>\n",
       "      <td>0</td>\n",
       "      <td>0</td>\n",
       "      <td>0</td>\n",
       "      <td>0</td>\n",
       "      <td>0</td>\n",
       "      <td>0</td>\n",
       "      <td>0</td>\n",
       "      <td>0</td>\n",
       "      <td>0</td>\n",
       "      <td>1</td>\n",
       "    </tr>\n",
       "    <tr>\n",
       "      <th>4</th>\n",
       "      <td>1</td>\n",
       "      <td>0</td>\n",
       "      <td>0</td>\n",
       "      <td>0</td>\n",
       "      <td>0</td>\n",
       "      <td>0</td>\n",
       "      <td>0</td>\n",
       "      <td>0</td>\n",
       "      <td>1</td>\n",
       "      <td>0</td>\n",
       "      <td>0</td>\n",
       "      <td>1</td>\n",
       "    </tr>\n",
       "  </tbody>\n",
       "</table>\n",
       "</div>"
      ],
      "text/plain": [
       "   house_position_天河  house_position_海珠  house_position_番禺  house_position_白云  \\\n",
       "0                  1                  0                  0                  0   \n",
       "1                  1                  0                  0                  0   \n",
       "2                  1                  0                  0                  0   \n",
       "3                  1                  0                  0                  0   \n",
       "4                  1                  0                  0                  0   \n",
       "\n",
       "   house_position_花都  house_position_荔湾  house_position_越秀  house_position_黄埔  \\\n",
       "0                  0                  0                  0                  0   \n",
       "1                  0                  0                  0                  0   \n",
       "2                  0                  0                  0                  0   \n",
       "3                  0                  0                  0                  0   \n",
       "4                  0                  0                  0                  0   \n",
       "\n",
       "   floor_中楼层  floor_低楼层  house_decorate_简装  house_decorate_精装  \n",
       "0          1          0                  0                  1  \n",
       "1          0          0                  0                  1  \n",
       "2          1          0                  1                  0  \n",
       "3          0          0                  0                  1  \n",
       "4          1          0                  0                  1  "
      ]
     },
     "execution_count": 23,
     "metadata": {},
     "output_type": "execute_result"
    }
   ],
   "source": [
    "data_8.drop(['house_position_增城','floor_高楼层','house_decorate_毛坯'],axis=1,inplace=True)\n",
    "data_8.head()"
   ]
  },
  {
   "cell_type": "code",
   "execution_count": 24,
   "metadata": {},
   "outputs": [
    {
     "data": {
      "text/html": [
       "<div>\n",
       "<style scoped>\n",
       "    .dataframe tbody tr th:only-of-type {\n",
       "        vertical-align: middle;\n",
       "    }\n",
       "\n",
       "    .dataframe tbody tr th {\n",
       "        vertical-align: top;\n",
       "    }\n",
       "\n",
       "    .dataframe thead th {\n",
       "        text-align: right;\n",
       "    }\n",
       "</style>\n",
       "<table border=\"1\" class=\"dataframe\">\n",
       "  <thead>\n",
       "    <tr style=\"text-align: right;\">\n",
       "      <th></th>\n",
       "      <th>house_position_天河</th>\n",
       "      <th>house_position_海珠</th>\n",
       "      <th>house_position_番禺</th>\n",
       "      <th>house_position_白云</th>\n",
       "      <th>house_position_花都</th>\n",
       "      <th>house_position_荔湾</th>\n",
       "      <th>house_position_越秀</th>\n",
       "      <th>house_position_黄埔</th>\n",
       "      <th>floor_中楼层</th>\n",
       "      <th>floor_低楼层</th>\n",
       "      <th>house_decorate_简装</th>\n",
       "      <th>house_decorate_精装</th>\n",
       "      <th>elevator</th>\n",
       "      <th>subway</th>\n",
       "      <th>keting_num</th>\n",
       "      <th>room_num</th>\n",
       "      <th>area</th>\n",
       "      <th>unit_price</th>\n",
       "    </tr>\n",
       "  </thead>\n",
       "  <tbody>\n",
       "    <tr>\n",
       "      <th>0</th>\n",
       "      <td>1</td>\n",
       "      <td>0</td>\n",
       "      <td>0</td>\n",
       "      <td>0</td>\n",
       "      <td>0</td>\n",
       "      <td>0</td>\n",
       "      <td>0</td>\n",
       "      <td>0</td>\n",
       "      <td>1</td>\n",
       "      <td>0</td>\n",
       "      <td>0</td>\n",
       "      <td>1</td>\n",
       "      <td>1</td>\n",
       "      <td>0</td>\n",
       "      <td>2</td>\n",
       "      <td>4</td>\n",
       "      <td>437.00</td>\n",
       "      <td>12.2884</td>\n",
       "    </tr>\n",
       "    <tr>\n",
       "      <th>1</th>\n",
       "      <td>1</td>\n",
       "      <td>0</td>\n",
       "      <td>0</td>\n",
       "      <td>0</td>\n",
       "      <td>0</td>\n",
       "      <td>0</td>\n",
       "      <td>0</td>\n",
       "      <td>0</td>\n",
       "      <td>0</td>\n",
       "      <td>0</td>\n",
       "      <td>0</td>\n",
       "      <td>1</td>\n",
       "      <td>1</td>\n",
       "      <td>1</td>\n",
       "      <td>2</td>\n",
       "      <td>3</td>\n",
       "      <td>91.27</td>\n",
       "      <td>11.6139</td>\n",
       "    </tr>\n",
       "    <tr>\n",
       "      <th>2</th>\n",
       "      <td>1</td>\n",
       "      <td>0</td>\n",
       "      <td>0</td>\n",
       "      <td>0</td>\n",
       "      <td>0</td>\n",
       "      <td>0</td>\n",
       "      <td>0</td>\n",
       "      <td>0</td>\n",
       "      <td>1</td>\n",
       "      <td>0</td>\n",
       "      <td>1</td>\n",
       "      <td>0</td>\n",
       "      <td>1</td>\n",
       "      <td>0</td>\n",
       "      <td>0</td>\n",
       "      <td>1</td>\n",
       "      <td>30.00</td>\n",
       "      <td>11.1667</td>\n",
       "    </tr>\n",
       "    <tr>\n",
       "      <th>3</th>\n",
       "      <td>1</td>\n",
       "      <td>0</td>\n",
       "      <td>0</td>\n",
       "      <td>0</td>\n",
       "      <td>0</td>\n",
       "      <td>0</td>\n",
       "      <td>0</td>\n",
       "      <td>0</td>\n",
       "      <td>0</td>\n",
       "      <td>0</td>\n",
       "      <td>0</td>\n",
       "      <td>1</td>\n",
       "      <td>1</td>\n",
       "      <td>1</td>\n",
       "      <td>2</td>\n",
       "      <td>2</td>\n",
       "      <td>67.00</td>\n",
       "      <td>10.8956</td>\n",
       "    </tr>\n",
       "    <tr>\n",
       "      <th>4</th>\n",
       "      <td>1</td>\n",
       "      <td>0</td>\n",
       "      <td>0</td>\n",
       "      <td>0</td>\n",
       "      <td>0</td>\n",
       "      <td>0</td>\n",
       "      <td>0</td>\n",
       "      <td>0</td>\n",
       "      <td>1</td>\n",
       "      <td>0</td>\n",
       "      <td>0</td>\n",
       "      <td>1</td>\n",
       "      <td>1</td>\n",
       "      <td>1</td>\n",
       "      <td>2</td>\n",
       "      <td>2</td>\n",
       "      <td>66.95</td>\n",
       "      <td>10.7543</td>\n",
       "    </tr>\n",
       "  </tbody>\n",
       "</table>\n",
       "</div>"
      ],
      "text/plain": [
       "   house_position_天河  house_position_海珠  house_position_番禺  house_position_白云  \\\n",
       "0                  1                  0                  0                  0   \n",
       "1                  1                  0                  0                  0   \n",
       "2                  1                  0                  0                  0   \n",
       "3                  1                  0                  0                  0   \n",
       "4                  1                  0                  0                  0   \n",
       "\n",
       "   house_position_花都  house_position_荔湾  house_position_越秀  house_position_黄埔  \\\n",
       "0                  0                  0                  0                  0   \n",
       "1                  0                  0                  0                  0   \n",
       "2                  0                  0                  0                  0   \n",
       "3                  0                  0                  0                  0   \n",
       "4                  0                  0                  0                  0   \n",
       "\n",
       "   floor_中楼层  floor_低楼层  house_decorate_简装  house_decorate_精装  elevator  \\\n",
       "0          1          0                  0                  1         1   \n",
       "1          0          0                  0                  1         1   \n",
       "2          1          0                  1                  0         1   \n",
       "3          0          0                  0                  1         1   \n",
       "4          1          0                  0                  1         1   \n",
       "\n",
       "   subway  keting_num  room_num    area  unit_price  \n",
       "0       0           2         4  437.00     12.2884  \n",
       "1       1           2         3   91.27     11.6139  \n",
       "2       0           0         1   30.00     11.1667  \n",
       "3       1           2         2   67.00     10.8956  \n",
       "4       1           2         2   66.95     10.7543  "
      ]
     },
     "execution_count": 24,
     "metadata": {},
     "output_type": "execute_result"
    }
   ],
   "source": [
    "data_9 = pd.concat([data_8, data[['elevator', 'subway','keting_num','room_num','area','unit_price']]],axis=1)\n",
    "data_9.head()"
   ]
  },
  {
   "cell_type": "code",
   "execution_count": 25,
   "metadata": {},
   "outputs": [
    {
     "data": {
      "text/html": [
       "<table class=\"simpletable\">\n",
       "<caption>OLS Regression Results</caption>\n",
       "<tr>\n",
       "  <th>Dep. Variable:</th>       <td>unit_price</td>    <th>  R-squared:         </th> <td>   0.457</td> \n",
       "</tr>\n",
       "<tr>\n",
       "  <th>Model:</th>                   <td>OLS</td>       <th>  Adj. R-squared:    </th> <td>   0.456</td> \n",
       "</tr>\n",
       "<tr>\n",
       "  <th>Method:</th>             <td>Least Squares</td>  <th>  F-statistic:       </th> <td>   609.5</td> \n",
       "</tr>\n",
       "<tr>\n",
       "  <th>Date:</th>             <td>Sun, 07 Apr 2019</td> <th>  Prob (F-statistic):</th>  <td>  0.00</td>  \n",
       "</tr>\n",
       "<tr>\n",
       "  <th>Time:</th>                 <td>15:18:27</td>     <th>  Log-Likelihood:    </th> <td> -15433.</td> \n",
       "</tr>\n",
       "<tr>\n",
       "  <th>No. Observations:</th>      <td> 10878</td>      <th>  AIC:               </th> <td>3.090e+04</td>\n",
       "</tr>\n",
       "<tr>\n",
       "  <th>Df Residuals:</th>          <td> 10862</td>      <th>  BIC:               </th> <td>3.102e+04</td>\n",
       "</tr>\n",
       "<tr>\n",
       "  <th>Df Model:</th>              <td>    15</td>      <th>                     </th>     <td> </td>    \n",
       "</tr>\n",
       "<tr>\n",
       "  <th>Covariance Type:</th>      <td>nonrobust</td>    <th>                     </th>     <td> </td>    \n",
       "</tr>\n",
       "</table>\n",
       "<table class=\"simpletable\">\n",
       "<tr>\n",
       "          <td></td>             <th>coef</th>     <th>std err</th>      <th>t</th>      <th>P>|t|</th>  <th>[0.025</th>    <th>0.975]</th>  \n",
       "</tr>\n",
       "<tr>\n",
       "  <th>Intercept</th>         <td>    0.6875</td> <td>    0.097</td> <td>    7.119</td> <td> 0.000</td> <td>    0.498</td> <td>    0.877</td>\n",
       "</tr>\n",
       "<tr>\n",
       "  <th>house_position_天河</th> <td>    2.4299</td> <td>    0.062</td> <td>   39.294</td> <td> 0.000</td> <td>    2.309</td> <td>    2.551</td>\n",
       "</tr>\n",
       "<tr>\n",
       "  <th>house_position_海珠</th> <td>    1.5676</td> <td>    0.063</td> <td>   24.843</td> <td> 0.000</td> <td>    1.444</td> <td>    1.691</td>\n",
       "</tr>\n",
       "<tr>\n",
       "  <th>house_position_番禺</th> <td>    0.8200</td> <td>    0.062</td> <td>   13.236</td> <td> 0.000</td> <td>    0.699</td> <td>    0.941</td>\n",
       "</tr>\n",
       "<tr>\n",
       "  <th>house_position_白云</th> <td>    0.9496</td> <td>    0.063</td> <td>   15.132</td> <td> 0.000</td> <td>    0.827</td> <td>    1.073</td>\n",
       "</tr>\n",
       "<tr>\n",
       "  <th>house_position_花都</th> <td>   -0.1273</td> <td>    0.085</td> <td>   -1.499</td> <td> 0.134</td> <td>   -0.294</td> <td>    0.039</td>\n",
       "</tr>\n",
       "<tr>\n",
       "  <th>house_position_荔湾</th> <td>    1.0654</td> <td>    0.068</td> <td>   15.590</td> <td> 0.000</td> <td>    0.931</td> <td>    1.199</td>\n",
       "</tr>\n",
       "<tr>\n",
       "  <th>house_position_越秀</th> <td>    2.3392</td> <td>    0.077</td> <td>   30.472</td> <td> 0.000</td> <td>    2.189</td> <td>    2.490</td>\n",
       "</tr>\n",
       "<tr>\n",
       "  <th>house_position_黄埔</th> <td>    0.7933</td> <td>    0.068</td> <td>   11.616</td> <td> 0.000</td> <td>    0.659</td> <td>    0.927</td>\n",
       "</tr>\n",
       "<tr>\n",
       "  <th>house_decorate_简装</th> <td>    0.0945</td> <td>    0.077</td> <td>    1.226</td> <td> 0.220</td> <td>   -0.057</td> <td>    0.246</td>\n",
       "</tr>\n",
       "<tr>\n",
       "  <th>house_decorate_精装</th> <td>    0.3493</td> <td>    0.077</td> <td>    4.515</td> <td> 0.000</td> <td>    0.198</td> <td>    0.501</td>\n",
       "</tr>\n",
       "<tr>\n",
       "  <th>elevator</th>          <td>    0.7867</td> <td>    0.022</td> <td>   36.244</td> <td> 0.000</td> <td>    0.744</td> <td>    0.829</td>\n",
       "</tr>\n",
       "<tr>\n",
       "  <th>subway</th>            <td>    0.2603</td> <td>    0.022</td> <td>   11.717</td> <td> 0.000</td> <td>    0.217</td> <td>    0.304</td>\n",
       "</tr>\n",
       "<tr>\n",
       "  <th>area</th>              <td>    0.0019</td> <td>    0.001</td> <td>    3.286</td> <td> 0.001</td> <td>    0.001</td> <td>    0.003</td>\n",
       "</tr>\n",
       "<tr>\n",
       "  <th>room_num</th>          <td>   -0.1022</td> <td>    0.022</td> <td>   -4.648</td> <td> 0.000</td> <td>   -0.145</td> <td>   -0.059</td>\n",
       "</tr>\n",
       "<tr>\n",
       "  <th>keting_num</th>        <td>    0.0210</td> <td>    0.022</td> <td>    0.963</td> <td> 0.336</td> <td>   -0.022</td> <td>    0.064</td>\n",
       "</tr>\n",
       "</table>\n",
       "<table class=\"simpletable\">\n",
       "<tr>\n",
       "  <th>Omnibus:</th>       <td>1954.932</td> <th>  Durbin-Watson:     </th> <td>   0.835</td>\n",
       "</tr>\n",
       "<tr>\n",
       "  <th>Prob(Omnibus):</th>  <td> 0.000</td>  <th>  Jarque-Bera (JB):  </th> <td>5272.706</td>\n",
       "</tr>\n",
       "<tr>\n",
       "  <th>Skew:</th>           <td> 0.971</td>  <th>  Prob(JB):          </th> <td>    0.00</td>\n",
       "</tr>\n",
       "<tr>\n",
       "  <th>Kurtosis:</th>       <td> 5.804</td>  <th>  Cond. No.          </th> <td>1.55e+03</td>\n",
       "</tr>\n",
       "</table><br/><br/>Warnings:<br/>[1] Standard Errors assume that the covariance matrix of the errors is correctly specified.<br/>[2] The condition number is large, 1.55e+03. This might indicate that there are<br/>strong multicollinearity or other numerical problems."
      ],
      "text/plain": [
       "<class 'statsmodels.iolib.summary.Summary'>\n",
       "\"\"\"\n",
       "                            OLS Regression Results                            \n",
       "==============================================================================\n",
       "Dep. Variable:             unit_price   R-squared:                       0.457\n",
       "Model:                            OLS   Adj. R-squared:                  0.456\n",
       "Method:                 Least Squares   F-statistic:                     609.5\n",
       "Date:                Sun, 07 Apr 2019   Prob (F-statistic):               0.00\n",
       "Time:                        15:18:27   Log-Likelihood:                -15433.\n",
       "No. Observations:               10878   AIC:                         3.090e+04\n",
       "Df Residuals:                   10862   BIC:                         3.102e+04\n",
       "Df Model:                          15                                         \n",
       "Covariance Type:            nonrobust                                         \n",
       "=====================================================================================\n",
       "                        coef    std err          t      P>|t|      [0.025      0.975]\n",
       "-------------------------------------------------------------------------------------\n",
       "Intercept             0.6875      0.097      7.119      0.000       0.498       0.877\n",
       "house_position_天河     2.4299      0.062     39.294      0.000       2.309       2.551\n",
       "house_position_海珠     1.5676      0.063     24.843      0.000       1.444       1.691\n",
       "house_position_番禺     0.8200      0.062     13.236      0.000       0.699       0.941\n",
       "house_position_白云     0.9496      0.063     15.132      0.000       0.827       1.073\n",
       "house_position_花都    -0.1273      0.085     -1.499      0.134      -0.294       0.039\n",
       "house_position_荔湾     1.0654      0.068     15.590      0.000       0.931       1.199\n",
       "house_position_越秀     2.3392      0.077     30.472      0.000       2.189       2.490\n",
       "house_position_黄埔     0.7933      0.068     11.616      0.000       0.659       0.927\n",
       "house_decorate_简装     0.0945      0.077      1.226      0.220      -0.057       0.246\n",
       "house_decorate_精装     0.3493      0.077      4.515      0.000       0.198       0.501\n",
       "elevator              0.7867      0.022     36.244      0.000       0.744       0.829\n",
       "subway                0.2603      0.022     11.717      0.000       0.217       0.304\n",
       "area                  0.0019      0.001      3.286      0.001       0.001       0.003\n",
       "room_num             -0.1022      0.022     -4.648      0.000      -0.145      -0.059\n",
       "keting_num            0.0210      0.022      0.963      0.336      -0.022       0.064\n",
       "==============================================================================\n",
       "Omnibus:                     1954.932   Durbin-Watson:                   0.835\n",
       "Prob(Omnibus):                  0.000   Jarque-Bera (JB):             5272.706\n",
       "Skew:                           0.971   Prob(JB):                         0.00\n",
       "Kurtosis:                       5.804   Cond. No.                     1.55e+03\n",
       "==============================================================================\n",
       "\n",
       "Warnings:\n",
       "[1] Standard Errors assume that the covariance matrix of the errors is correctly specified.\n",
       "[2] The condition number is large, 1.55e+03. This might indicate that there are\n",
       "strong multicollinearity or other numerical problems.\n",
       "\"\"\""
      ]
     },
     "execution_count": 25,
     "metadata": {},
     "output_type": "execute_result"
    }
   ],
   "source": [
    "lm1 = ols(\"\"\"unit_price ~ + house_position_天河+house_position_海珠+house_position_番禺+house_position_白云\n",
    "          + house_position_花都+ house_position_荔湾+house_position_越秀+house_position_黄埔+house_decorate_简装+house_decorate_精装\n",
    "          + elevator+subway+area+room_num+keting_num\n",
    "          \"\"\", data=data_9).fit()\n",
    "lm1_summary = lm1.summary()\n",
    "lm1_summary "
   ]
  },
  {
   "cell_type": "code",
   "execution_count": 26,
   "metadata": {},
   "outputs": [
    {
     "data": {
      "text/plain": [
       "<matplotlib.axes._subplots.AxesSubplot at 0x2725be5ca20>"
      ]
     },
     "execution_count": 26,
     "metadata": {},
     "output_type": "execute_result"
    },
    {
     "data": {
      "image/png": "[encoded data removed]",
      "text/plain": [
       "<Figure size 432x288 with 1 Axes>"
      ]
     },
     "metadata": {
      "needs_background": "light"
     },
     "output_type": "display_data"
    }
   ],
   "source": [
    "data_9['pred1']=lm1.predict(data_9)\n",
    "data_9['resid1']=lm1.resid\n",
    "data_9.plot('pred1','resid1',kind='scatter')"
   ]
  },
  {
   "cell_type": "code",
   "execution_count": 27,
   "metadata": {},
   "outputs": [],
   "source": [
    "data_9['unit_price_ln'] = np.log(data_9['unit_price'])  #对单价取对数\n",
    "data_9['area_ln'] = np.log(data_9['area'])#对面积取对数"
   ]
  },
  {
   "cell_type": "code",
   "execution_count": 28,
   "metadata": {},
   "outputs": [
    {
     "data": {
      "text/html": [
       "<table class=\"simpletable\">\n",
       "<caption>OLS Regression Results</caption>\n",
       "<tr>\n",
       "  <th>Dep. Variable:</th>      <td>unit_price_ln</td>  <th>  R-squared:         </th> <td>   0.494</td>\n",
       "</tr>\n",
       "<tr>\n",
       "  <th>Model:</th>                   <td>OLS</td>       <th>  Adj. R-squared:    </th> <td>   0.493</td>\n",
       "</tr>\n",
       "<tr>\n",
       "  <th>Method:</th>             <td>Least Squares</td>  <th>  F-statistic:       </th> <td>   814.4</td>\n",
       "</tr>\n",
       "<tr>\n",
       "  <th>Date:</th>             <td>Sun, 07 Apr 2019</td> <th>  Prob (F-statistic):</th>  <td>  0.00</td> \n",
       "</tr>\n",
       "<tr>\n",
       "  <th>Time:</th>                 <td>15:18:28</td>     <th>  Log-Likelihood:    </th> <td> -3079.6</td>\n",
       "</tr>\n",
       "<tr>\n",
       "  <th>No. Observations:</th>      <td> 10878</td>      <th>  AIC:               </th> <td>   6187.</td>\n",
       "</tr>\n",
       "<tr>\n",
       "  <th>Df Residuals:</th>          <td> 10864</td>      <th>  BIC:               </th> <td>   6289.</td>\n",
       "</tr>\n",
       "<tr>\n",
       "  <th>Df Model:</th>              <td>    13</td>      <th>                     </th>     <td> </td>   \n",
       "</tr>\n",
       "<tr>\n",
       "  <th>Covariance Type:</th>      <td>nonrobust</td>    <th>                     </th>     <td> </td>   \n",
       "</tr>\n",
       "</table>\n",
       "<table class=\"simpletable\">\n",
       "<tr>\n",
       "          <td></td>             <th>coef</th>     <th>std err</th>      <th>t</th>      <th>P>|t|</th>  <th>[0.025</th>    <th>0.975]</th>  \n",
       "</tr>\n",
       "<tr>\n",
       "  <th>Intercept</th>         <td>    0.2959</td> <td>    0.056</td> <td>    5.241</td> <td> 0.000</td> <td>    0.185</td> <td>    0.407</td>\n",
       "</tr>\n",
       "<tr>\n",
       "  <th>house_position_天河</th> <td>    0.8822</td> <td>    0.020</td> <td>   45.073</td> <td> 0.000</td> <td>    0.844</td> <td>    0.921</td>\n",
       "</tr>\n",
       "<tr>\n",
       "  <th>house_position_海珠</th> <td>    0.6723</td> <td>    0.020</td> <td>   33.607</td> <td> 0.000</td> <td>    0.633</td> <td>    0.712</td>\n",
       "</tr>\n",
       "<tr>\n",
       "  <th>house_position_番禺</th> <td>    0.3634</td> <td>    0.020</td> <td>   18.475</td> <td> 0.000</td> <td>    0.325</td> <td>    0.402</td>\n",
       "</tr>\n",
       "<tr>\n",
       "  <th>house_position_白云</th> <td>    0.4110</td> <td>    0.020</td> <td>   20.733</td> <td> 0.000</td> <td>    0.372</td> <td>    0.450</td>\n",
       "</tr>\n",
       "<tr>\n",
       "  <th>house_position_花都</th> <td>   -0.1161</td> <td>    0.027</td> <td>   -4.280</td> <td> 0.000</td> <td>   -0.169</td> <td>   -0.063</td>\n",
       "</tr>\n",
       "<tr>\n",
       "  <th>house_position_荔湾</th> <td>    0.4858</td> <td>    0.022</td> <td>   22.406</td> <td> 0.000</td> <td>    0.443</td> <td>    0.528</td>\n",
       "</tr>\n",
       "<tr>\n",
       "  <th>house_position_越秀</th> <td>    0.8943</td> <td>    0.024</td> <td>   36.577</td> <td> 0.000</td> <td>    0.846</td> <td>    0.942</td>\n",
       "</tr>\n",
       "<tr>\n",
       "  <th>house_position_黄埔</th> <td>    0.3827</td> <td>    0.022</td> <td>   17.622</td> <td> 0.000</td> <td>    0.340</td> <td>    0.425</td>\n",
       "</tr>\n",
       "<tr>\n",
       "  <th>elevator</th>          <td>    0.3179</td> <td>    0.007</td> <td>   46.233</td> <td> 0.000</td> <td>    0.304</td> <td>    0.331</td>\n",
       "</tr>\n",
       "<tr>\n",
       "  <th>subway</th>            <td>    0.0805</td> <td>    0.007</td> <td>   11.279</td> <td> 0.000</td> <td>    0.066</td> <td>    0.094</td>\n",
       "</tr>\n",
       "<tr>\n",
       "  <th>area_ln</th>           <td>   -0.0490</td> <td>    0.016</td> <td>   -3.087</td> <td> 0.002</td> <td>   -0.080</td> <td>   -0.018</td>\n",
       "</tr>\n",
       "<tr>\n",
       "  <th>room_num</th>          <td>    0.0040</td> <td>    0.007</td> <td>    0.551</td> <td> 0.581</td> <td>   -0.010</td> <td>    0.018</td>\n",
       "</tr>\n",
       "<tr>\n",
       "  <th>keting_num</th>        <td>    0.0275</td> <td>    0.007</td> <td>    3.752</td> <td> 0.000</td> <td>    0.013</td> <td>    0.042</td>\n",
       "</tr>\n",
       "</table>\n",
       "<table class=\"simpletable\">\n",
       "<tr>\n",
       "  <th>Omnibus:</th>       <td>113.240</td> <th>  Durbin-Watson:     </th> <td>   0.955</td>\n",
       "</tr>\n",
       "<tr>\n",
       "  <th>Prob(Omnibus):</th> <td> 0.000</td>  <th>  Jarque-Bera (JB):  </th> <td>  72.535</td>\n",
       "</tr>\n",
       "<tr>\n",
       "  <th>Skew:</th>          <td> 0.030</td>  <th>  Prob(JB):          </th> <td>1.78e-16</td>\n",
       "</tr>\n",
       "<tr>\n",
       "  <th>Kurtosis:</th>      <td> 2.605</td>  <th>  Cond. No.          </th> <td>    113.</td>\n",
       "</tr>\n",
       "</table><br/><br/>Warnings:<br/>[1] Standard Errors assume that the covariance matrix of the errors is correctly specified."
      ],
      "text/plain": [
       "<class 'statsmodels.iolib.summary.Summary'>\n",
       "\"\"\"\n",
       "                            OLS Regression Results                            \n",
       "==============================================================================\n",
       "Dep. Variable:          unit_price_ln   R-squared:                       0.494\n",
       "Model:                            OLS   Adj. R-squared:                  0.493\n",
       "Method:                 Least Squares   F-statistic:                     814.4\n",
       "Date:                Sun, 07 Apr 2019   Prob (F-statistic):               0.00\n",
       "Time:                        15:18:28   Log-Likelihood:                -3079.6\n",
       "No. Observations:               10878   AIC:                             6187.\n",
       "Df Residuals:                   10864   BIC:                             6289.\n",
       "Df Model:                          13                                         \n",
       "Covariance Type:            nonrobust                                         \n",
       "=====================================================================================\n",
       "                        coef    std err          t      P>|t|      [0.025      0.975]\n",
       "-------------------------------------------------------------------------------------\n",
       "Intercept             0.2959      0.056      5.241      0.000       0.185       0.407\n",
       "house_position_天河     0.8822      0.020     45.073      0.000       0.844       0.921\n",
       "house_position_海珠     0.6723      0.020     33.607      0.000       0.633       0.712\n",
       "house_position_番禺     0.3634      0.020     18.475      0.000       0.325       0.402\n",
       "house_position_白云     0.4110      0.020     20.733      0.000       0.372       0.450\n",
       "house_position_花都    -0.1161      0.027     -4.280      0.000      -0.169      -0.063\n",
       "house_position_荔湾     0.4858      0.022     22.406      0.000       0.443       0.528\n",
       "house_position_越秀     0.8943      0.024     36.577      0.000       0.846       0.942\n",
       "house_position_黄埔     0.3827      0.022     17.622      0.000       0.340       0.425\n",
       "elevator              0.3179      0.007     46.233      0.000       0.304       0.331\n",
       "subway                0.0805      0.007     11.279      0.000       0.066       0.094\n",
       "area_ln              -0.0490      0.016     -3.087      0.002      -0.080      -0.018\n",
       "room_num              0.0040      0.007      0.551      0.581      -0.010       0.018\n",
       "keting_num            0.0275      0.007      3.752      0.000       0.013       0.042\n",
       "==============================================================================\n",
       "Omnibus:                      113.240   Durbin-Watson:                   0.955\n",
       "Prob(Omnibus):                  0.000   Jarque-Bera (JB):               72.535\n",
       "Skew:                           0.030   Prob(JB):                     1.78e-16\n",
       "Kurtosis:                       2.605   Cond. No.                         113.\n",
       "==============================================================================\n",
       "\n",
       "Warnings:\n",
       "[1] Standard Errors assume that the covariance matrix of the errors is correctly specified.\n",
       "\"\"\""
      ]
     },
     "execution_count": 28,
     "metadata": {},
     "output_type": "execute_result"
    }
   ],
   "source": [
    "lm2 = ols(\"\"\"unit_price_ln ~ + house_position_天河+house_position_海珠+house_position_番禺+house_position_白云\n",
    "          + house_position_花都+ house_position_荔湾+house_position_越秀+house_position_黄埔\n",
    "          + elevator+subway+area_ln+room_num+keting_num\"\"\", data=data_9).fit()\n",
    "lm2_summary = lm2.summary()\n",
    "lm2_summary  #回归结果展示"
   ]
  },
  {
   "cell_type": "code",
   "execution_count": 29,
   "metadata": {},
   "outputs": [
    {
     "data": {
      "text/plain": [
       "<matplotlib.axes._subplots.AxesSubplot at 0x2725842dcf8>"
      ]
     },
     "execution_count": 29,
     "metadata": {},
     "output_type": "execute_result"
    },
    {
     "data": {
      "image/png": "[encoded data removed]",
      "text/plain": [
       "<Figure size 432x288 with 1 Axes>"
      ]
     },
     "metadata": {
      "needs_background": "light"
     },
     "output_type": "display_data"
    }
   ],
   "source": [
    "data_9['pred1']=lm2.predict(data_9)\n",
    "data_9['resid1']=lm2.resid\n",
    "data_9.plot('pred1','resid1',kind='scatter') "
   ]
  },
  {
   "cell_type": "code",
   "execution_count": 30,
   "metadata": {},
   "outputs": [
    {
     "data": {
      "text/html": [
       "<table class=\"simpletable\">\n",
       "<caption>OLS Regression Results</caption>\n",
       "<tr>\n",
       "  <th>Dep. Variable:</th>      <td>unit_price_ln</td>  <th>  R-squared:         </th> <td>   0.524</td>\n",
       "</tr>\n",
       "<tr>\n",
       "  <th>Model:</th>                   <td>OLS</td>       <th>  Adj. R-squared:    </th> <td>   0.519</td>\n",
       "</tr>\n",
       "<tr>\n",
       "  <th>Method:</th>             <td>Least Squares</td>  <th>  F-statistic:       </th> <td>   115.0</td>\n",
       "</tr>\n",
       "<tr>\n",
       "  <th>Date:</th>             <td>Sun, 07 Apr 2019</td> <th>  Prob (F-statistic):</th>  <td>  0.00</td> \n",
       "</tr>\n",
       "<tr>\n",
       "  <th>Time:</th>                 <td>15:18:28</td>     <th>  Log-Likelihood:    </th> <td> -2745.3</td>\n",
       "</tr>\n",
       "<tr>\n",
       "  <th>No. Observations:</th>      <td> 10878</td>      <th>  AIC:               </th> <td>   5699.</td>\n",
       "</tr>\n",
       "<tr>\n",
       "  <th>Df Residuals:</th>          <td> 10774</td>      <th>  BIC:               </th> <td>   6457.</td>\n",
       "</tr>\n",
       "<tr>\n",
       "  <th>Df Model:</th>              <td>   103</td>      <th>                     </th>     <td> </td>   \n",
       "</tr>\n",
       "<tr>\n",
       "  <th>Covariance Type:</th>      <td>nonrobust</td>    <th>                     </th>     <td> </td>   \n",
       "</tr>\n",
       "</table>\n",
       "<table class=\"simpletable\">\n",
       "<tr>\n",
       "                           <td></td>                              <th>coef</th>     <th>std err</th>      <th>t</th>      <th>P>|t|</th>  <th>[0.025</th>    <th>0.975]</th>  \n",
       "</tr>\n",
       "<tr>\n",
       "  <th>Intercept</th>                                           <td>    1.0350</td> <td>    0.228</td> <td>    4.539</td> <td> 0.000</td> <td>    0.588</td> <td>    1.482</td>\n",
       "</tr>\n",
       "<tr>\n",
       "  <th>house_position_天河</th>                                   <td>    0.2640</td> <td>    0.271</td> <td>    0.974</td> <td> 0.330</td> <td>   -0.267</td> <td>    0.795</td>\n",
       "</tr>\n",
       "<tr>\n",
       "  <th>house_position_海珠</th>                                   <td>   -0.1165</td> <td>    0.383</td> <td>   -0.304</td> <td> 0.761</td> <td>   -0.868</td> <td>    0.635</td>\n",
       "</tr>\n",
       "<tr>\n",
       "  <th>house_position_番禺</th>                                   <td>   -0.0187</td> <td>    0.256</td> <td>   -0.073</td> <td> 0.942</td> <td>   -0.520</td> <td>    0.482</td>\n",
       "</tr>\n",
       "<tr>\n",
       "  <th>house_position_白云</th>                                   <td>   -0.2954</td> <td>    0.245</td> <td>   -1.207</td> <td> 0.227</td> <td>   -0.775</td> <td>    0.184</td>\n",
       "</tr>\n",
       "<tr>\n",
       "  <th>house_position_花都</th>                                   <td>   -1.3076</td> <td>    0.383</td> <td>   -3.411</td> <td> 0.001</td> <td>   -2.059</td> <td>   -0.556</td>\n",
       "</tr>\n",
       "<tr>\n",
       "  <th>house_position_荔湾</th>                                   <td>   -0.3902</td> <td>    0.313</td> <td>   -1.247</td> <td> 0.212</td> <td>   -1.004</td> <td>    0.223</td>\n",
       "</tr>\n",
       "<tr>\n",
       "  <th>house_position_越秀</th>                                   <td>    0.5085</td> <td>    0.167</td> <td>    3.036</td> <td> 0.002</td> <td>    0.180</td> <td>    0.837</td>\n",
       "</tr>\n",
       "<tr>\n",
       "  <th>house_position_黄埔</th>                                   <td>   -0.1608</td> <td>    0.129</td> <td>   -1.242</td> <td> 0.214</td> <td>   -0.415</td> <td>    0.093</td>\n",
       "</tr>\n",
       "<tr>\n",
       "  <th>subway</th>                                              <td>    0.0261</td> <td>    0.225</td> <td>    0.116</td> <td> 0.908</td> <td>   -0.415</td> <td>    0.467</td>\n",
       "</tr>\n",
       "<tr>\n",
       "  <th>house_position_天河:subway</th>                            <td>   -0.0373</td> <td>    0.315</td> <td>   -0.119</td> <td> 0.906</td> <td>   -0.654</td> <td>    0.579</td>\n",
       "</tr>\n",
       "<tr>\n",
       "  <th>house_position_海珠:subway</th>                            <td>    0.4377</td> <td>    0.384</td> <td>    1.141</td> <td> 0.254</td> <td>   -0.314</td> <td>    1.190</td>\n",
       "</tr>\n",
       "<tr>\n",
       "  <th>house_position_番禺:subway</th>                            <td>   -0.4071</td> <td>    0.288</td> <td>   -1.414</td> <td> 0.157</td> <td>   -0.971</td> <td>    0.157</td>\n",
       "</tr>\n",
       "<tr>\n",
       "  <th>house_position_白云:subway</th>                            <td>   -0.1047</td> <td>    0.218</td> <td>   -0.480</td> <td> 0.631</td> <td>   -0.532</td> <td>    0.323</td>\n",
       "</tr>\n",
       "<tr>\n",
       "  <th>house_position_花都:subway</th>                            <td>    0.0173</td> <td>    0.229</td> <td>    0.075</td> <td> 0.940</td> <td>   -0.431</td> <td>    0.465</td>\n",
       "</tr>\n",
       "<tr>\n",
       "  <th>house_position_荔湾:subway</th>                            <td>    0.3482</td> <td>    0.384</td> <td>    0.908</td> <td> 0.364</td> <td>   -0.404</td> <td>    1.100</td>\n",
       "</tr>\n",
       "<tr>\n",
       "  <th>house_position_越秀:subway</th>                            <td>   -0.0927</td> <td>    0.227</td> <td>   -0.408</td> <td> 0.683</td> <td>   -0.538</td> <td>    0.352</td>\n",
       "</tr>\n",
       "<tr>\n",
       "  <th>house_position_黄埔:subway</th>                            <td>   -0.3050</td> <td>    0.259</td> <td>   -1.177</td> <td> 0.239</td> <td>   -0.813</td> <td>    0.203</td>\n",
       "</tr>\n",
       "<tr>\n",
       "  <th>house_decorate_简装</th>                                   <td>   -0.2608</td> <td>    0.234</td> <td>   -1.115</td> <td> 0.265</td> <td>   -0.719</td> <td>    0.198</td>\n",
       "</tr>\n",
       "<tr>\n",
       "  <th>house_decorate_精装</th>                                   <td>   -0.2935</td> <td>    0.228</td> <td>   -1.287</td> <td> 0.198</td> <td>   -0.741</td> <td>    0.154</td>\n",
       "</tr>\n",
       "<tr>\n",
       "  <th>house_position_天河:house_decorate_简装</th>                 <td>    0.1109</td> <td>    0.282</td> <td>    0.393</td> <td> 0.694</td> <td>   -0.442</td> <td>    0.664</td>\n",
       "</tr>\n",
       "<tr>\n",
       "  <th>house_position_天河:house_decorate_精装</th>                 <td>    0.2542</td> <td>    0.279</td> <td>    0.911</td> <td> 0.362</td> <td>   -0.293</td> <td>    0.801</td>\n",
       "</tr>\n",
       "<tr>\n",
       "  <th>house_position_海珠:house_decorate_简装</th>                 <td>    0.3634</td> <td>    0.392</td> <td>    0.927</td> <td> 0.354</td> <td>   -0.405</td> <td>    1.131</td>\n",
       "</tr>\n",
       "<tr>\n",
       "  <th>house_position_海珠:house_decorate_精装</th>                 <td>    0.6072</td> <td>    0.393</td> <td>    1.544</td> <td> 0.123</td> <td>   -0.164</td> <td>    1.378</td>\n",
       "</tr>\n",
       "<tr>\n",
       "  <th>house_position_番禺:house_decorate_简装</th>                 <td>   -0.0033</td> <td>    0.267</td> <td>   -0.012</td> <td> 0.990</td> <td>   -0.527</td> <td>    0.520</td>\n",
       "</tr>\n",
       "<tr>\n",
       "  <th>house_position_番禺:house_decorate_精装</th>                 <td>    0.2151</td> <td>    0.263</td> <td>    0.819</td> <td> 0.413</td> <td>   -0.300</td> <td>    0.730</td>\n",
       "</tr>\n",
       "<tr>\n",
       "  <th>house_position_白云:house_decorate_简装</th>                 <td>    0.3029</td> <td>    0.256</td> <td>    1.181</td> <td> 0.238</td> <td>   -0.200</td> <td>    0.806</td>\n",
       "</tr>\n",
       "<tr>\n",
       "  <th>house_position_白云:house_decorate_精装</th>                 <td>    0.4724</td> <td>    0.252</td> <td>    1.874</td> <td> 0.061</td> <td>   -0.022</td> <td>    0.967</td>\n",
       "</tr>\n",
       "<tr>\n",
       "  <th>house_position_花都:house_decorate_简装</th>                 <td>    0.8368</td> <td>    0.411</td> <td>    2.035</td> <td> 0.042</td> <td>    0.031</td> <td>    1.643</td>\n",
       "</tr>\n",
       "<tr>\n",
       "  <th>house_position_花都:house_decorate_精装</th>                 <td>    0.6434</td> <td>    0.418</td> <td>    1.540</td> <td> 0.124</td> <td>   -0.175</td> <td>    1.462</td>\n",
       "</tr>\n",
       "<tr>\n",
       "  <th>house_position_荔湾:house_decorate_简装</th>                 <td>    0.4230</td> <td>    0.323</td> <td>    1.308</td> <td> 0.191</td> <td>   -0.211</td> <td>    1.057</td>\n",
       "</tr>\n",
       "<tr>\n",
       "  <th>house_position_荔湾:house_decorate_精装</th>                 <td>    0.4552</td> <td>    0.322</td> <td>    1.412</td> <td> 0.158</td> <td>   -0.177</td> <td>    1.087</td>\n",
       "</tr>\n",
       "<tr>\n",
       "  <th>house_position_越秀:house_decorate_简装</th>                 <td>    0.0989</td> <td>    0.189</td> <td>    0.524</td> <td> 0.601</td> <td>   -0.271</td> <td>    0.469</td>\n",
       "</tr>\n",
       "<tr>\n",
       "  <th>house_position_越秀:house_decorate_精装</th>                 <td>    0.3488</td> <td>    0.215</td> <td>    1.622</td> <td> 0.105</td> <td>   -0.073</td> <td>    0.770</td>\n",
       "</tr>\n",
       "<tr>\n",
       "  <th>house_position_黄埔:house_decorate_简装</th>                 <td>    0.0250</td> <td>    0.145</td> <td>    0.172</td> <td> 0.864</td> <td>   -0.260</td> <td>    0.310</td>\n",
       "</tr>\n",
       "<tr>\n",
       "  <th>house_position_黄埔:house_decorate_精装</th>                 <td>   -0.0405</td> <td>    0.146</td> <td>   -0.277</td> <td> 0.782</td> <td>   -0.327</td> <td>    0.246</td>\n",
       "</tr>\n",
       "<tr>\n",
       "  <th>subway:house_decorate_简装</th>                            <td>   -0.2438</td> <td>    0.293</td> <td>   -0.832</td> <td> 0.405</td> <td>   -0.818</td> <td>    0.330</td>\n",
       "</tr>\n",
       "<tr>\n",
       "  <th>subway:house_decorate_精装</th>                            <td>    0.3148</td> <td>    0.291</td> <td>    1.083</td> <td> 0.279</td> <td>   -0.255</td> <td>    0.885</td>\n",
       "</tr>\n",
       "<tr>\n",
       "  <th>house_position_天河:subway:house_decorate_简装</th>          <td>    0.3344</td> <td>    0.367</td> <td>    0.910</td> <td> 0.363</td> <td>   -0.386</td> <td>    1.054</td>\n",
       "</tr>\n",
       "<tr>\n",
       "  <th>house_position_天河:subway:house_decorate_精装</th>          <td>   -0.2315</td> <td>    0.368</td> <td>   -0.628</td> <td> 0.530</td> <td>   -0.954</td> <td>    0.491</td>\n",
       "</tr>\n",
       "<tr>\n",
       "  <th>house_position_海珠:subway:house_decorate_简装</th>          <td>   -0.1666</td> <td>    0.428</td> <td>   -0.389</td> <td> 0.697</td> <td>   -1.006</td> <td>    0.672</td>\n",
       "</tr>\n",
       "<tr>\n",
       "  <th>house_position_海珠:subway:house_decorate_精装</th>          <td>   -0.8918</td> <td>    0.431</td> <td>   -2.069</td> <td> 0.039</td> <td>   -1.737</td> <td>   -0.047</td>\n",
       "</tr>\n",
       "<tr>\n",
       "  <th>house_position_番禺:subway:house_decorate_简装</th>          <td>    0.7539</td> <td>    0.345</td> <td>    2.188</td> <td> 0.029</td> <td>    0.078</td> <td>    1.429</td>\n",
       "</tr>\n",
       "<tr>\n",
       "  <th>house_position_番禺:subway:house_decorate_精装</th>          <td>    0.1042</td> <td>    0.345</td> <td>    0.302</td> <td> 0.763</td> <td>   -0.572</td> <td>    0.781</td>\n",
       "</tr>\n",
       "<tr>\n",
       "  <th>house_position_白云:subway:house_decorate_简装</th>          <td>    0.3627</td> <td>    0.287</td> <td>    1.262</td> <td> 0.207</td> <td>   -0.201</td> <td>    0.926</td>\n",
       "</tr>\n",
       "<tr>\n",
       "  <th>house_position_白云:subway:house_decorate_精装</th>          <td>   -0.1481</td> <td>    0.288</td> <td>   -0.514</td> <td> 0.607</td> <td>   -0.713</td> <td>    0.417</td>\n",
       "</tr>\n",
       "<tr>\n",
       "  <th>house_position_花都:subway:house_decorate_简装</th>          <td>    0.3391</td> <td>    0.313</td> <td>    1.084</td> <td> 0.278</td> <td>   -0.274</td> <td>    0.952</td>\n",
       "</tr>\n",
       "<tr>\n",
       "  <th>house_position_花都:subway:house_decorate_精装</th>          <td>   -0.0526</td> <td>    0.320</td> <td>   -0.164</td> <td> 0.869</td> <td>   -0.679</td> <td>    0.574</td>\n",
       "</tr>\n",
       "<tr>\n",
       "  <th>house_position_荔湾:subway:house_decorate_简装</th>          <td>   -0.0477</td> <td>    0.428</td> <td>   -0.111</td> <td> 0.911</td> <td>   -0.888</td> <td>    0.792</td>\n",
       "</tr>\n",
       "<tr>\n",
       "  <th>house_position_荔湾:subway:house_decorate_精装</th>          <td>   -0.5209</td> <td>    0.430</td> <td>   -1.210</td> <td> 0.226</td> <td>   -1.365</td> <td>    0.323</td>\n",
       "</tr>\n",
       "<tr>\n",
       "  <th>house_position_越秀:subway:house_decorate_简装</th>          <td>    0.2969</td> <td>    0.298</td> <td>    0.996</td> <td> 0.319</td> <td>   -0.287</td> <td>    0.881</td>\n",
       "</tr>\n",
       "<tr>\n",
       "  <th>house_position_越秀:subway:house_decorate_精装</th>          <td>   -0.4503</td> <td>    0.320</td> <td>   -1.408</td> <td> 0.159</td> <td>   -1.077</td> <td>    0.177</td>\n",
       "</tr>\n",
       "<tr>\n",
       "  <th>house_position_黄埔:subway:house_decorate_简装</th>          <td>    0.6670</td> <td>    0.318</td> <td>    2.097</td> <td> 0.036</td> <td>    0.044</td> <td>    1.290</td>\n",
       "</tr>\n",
       "<tr>\n",
       "  <th>house_position_黄埔:subway:house_decorate_精装</th>          <td>    0.2440</td> <td>    0.321</td> <td>    0.759</td> <td> 0.448</td> <td>   -0.386</td> <td>    0.874</td>\n",
       "</tr>\n",
       "<tr>\n",
       "  <th>elevator</th>                                            <td>   -0.6086</td> <td>    0.227</td> <td>   -2.679</td> <td> 0.007</td> <td>   -1.054</td> <td>   -0.163</td>\n",
       "</tr>\n",
       "<tr>\n",
       "  <th>house_position_天河:elevator</th>                          <td>    0.8275</td> <td>    0.300</td> <td>    2.757</td> <td> 0.006</td> <td>    0.239</td> <td>    1.416</td>\n",
       "</tr>\n",
       "<tr>\n",
       "  <th>house_position_海珠:elevator</th>                          <td>    0.9909</td> <td>    0.411</td> <td>    2.409</td> <td> 0.016</td> <td>    0.185</td> <td>    1.797</td>\n",
       "</tr>\n",
       "<tr>\n",
       "  <th>house_position_番禺:elevator</th>                          <td>    0.3509</td> <td>    0.267</td> <td>    1.316</td> <td> 0.188</td> <td>   -0.172</td> <td>    0.874</td>\n",
       "</tr>\n",
       "<tr>\n",
       "  <th>house_position_白云:elevator</th>                          <td>    0.9145</td> <td>    0.277</td> <td>    3.307</td> <td> 0.001</td> <td>    0.372</td> <td>    1.457</td>\n",
       "</tr>\n",
       "<tr>\n",
       "  <th>house_position_花都:elevator</th>                          <td>    1.4333</td> <td>    0.395</td> <td>    3.632</td> <td> 0.000</td> <td>    0.660</td> <td>    2.207</td>\n",
       "</tr>\n",
       "<tr>\n",
       "  <th>house_position_荔湾:elevator</th>                          <td>    1.2834</td> <td>    0.354</td> <td>    3.629</td> <td> 0.000</td> <td>    0.590</td> <td>    1.977</td>\n",
       "</tr>\n",
       "<tr>\n",
       "  <th>house_position_越秀:elevator</th>                          <td>    0.2488</td> <td>    0.198</td> <td>    1.258</td> <td> 0.208</td> <td>   -0.139</td> <td>    0.636</td>\n",
       "</tr>\n",
       "<tr>\n",
       "  <th>house_position_黄埔:elevator</th>                          <td>    0.8572</td> <td>    0.184</td> <td>    4.667</td> <td> 0.000</td> <td>    0.497</td> <td>    1.217</td>\n",
       "</tr>\n",
       "<tr>\n",
       "  <th>subway:elevator</th>                                     <td>    0.4826</td> <td>    0.232</td> <td>    2.077</td> <td> 0.038</td> <td>    0.027</td> <td>    0.938</td>\n",
       "</tr>\n",
       "<tr>\n",
       "  <th>house_position_天河:subway:elevator</th>                   <td>   -0.2305</td> <td>    0.375</td> <td>   -0.614</td> <td> 0.539</td> <td>   -0.966</td> <td>    0.505</td>\n",
       "</tr>\n",
       "<tr>\n",
       "  <th>house_position_海珠:subway:elevator</th>                   <td>   -0.6342</td> <td>    0.440</td> <td>   -1.441</td> <td> 0.150</td> <td>   -1.497</td> <td>    0.229</td>\n",
       "</tr>\n",
       "<tr>\n",
       "  <th>house_position_番禺:subway:elevator</th>                   <td>    0.3623</td> <td>    0.341</td> <td>    1.064</td> <td> 0.287</td> <td>   -0.305</td> <td>    1.030</td>\n",
       "</tr>\n",
       "<tr>\n",
       "  <th>house_position_白云:subway:elevator</th>                   <td>   -0.2995</td> <td>    0.218</td> <td>   -1.373</td> <td> 0.170</td> <td>   -0.727</td> <td>    0.128</td>\n",
       "</tr>\n",
       "<tr>\n",
       "  <th>house_position_花都:subway:elevator</th>                   <td>   -0.5757</td> <td>    0.229</td> <td>   -2.518</td> <td> 0.012</td> <td>   -1.024</td> <td>   -0.128</td>\n",
       "</tr>\n",
       "<tr>\n",
       "  <th>house_position_荔湾:subway:elevator</th>                   <td>   -0.3868</td> <td>    0.502</td> <td>   -0.771</td> <td> 0.441</td> <td>   -1.371</td> <td>    0.597</td>\n",
       "</tr>\n",
       "<tr>\n",
       "  <th>house_position_越秀:subway:elevator</th>                   <td>   -0.0002</td> <td>    0.256</td> <td>   -0.001</td> <td> 0.999</td> <td>   -0.502</td> <td>    0.502</td>\n",
       "</tr>\n",
       "<tr>\n",
       "  <th>house_position_黄埔:subway:elevator</th>                   <td>   -0.4215</td> <td>    0.176</td> <td>   -2.400</td> <td> 0.016</td> <td>   -0.766</td> <td>   -0.077</td>\n",
       "</tr>\n",
       "<tr>\n",
       "  <th>house_decorate_简装:elevator</th>                          <td>    0.4008</td> <td>    0.244</td> <td>    1.644</td> <td> 0.100</td> <td>   -0.077</td> <td>    0.879</td>\n",
       "</tr>\n",
       "<tr>\n",
       "  <th>house_decorate_精装:elevator</th>                          <td>    0.5309</td> <td>    0.235</td> <td>    2.259</td> <td> 0.024</td> <td>    0.070</td> <td>    0.992</td>\n",
       "</tr>\n",
       "<tr>\n",
       "  <th>house_position_天河:house_decorate_简装:elevator</th>        <td>   -0.2582</td> <td>    0.314</td> <td>   -0.822</td> <td> 0.411</td> <td>   -0.874</td> <td>    0.357</td>\n",
       "</tr>\n",
       "<tr>\n",
       "  <th>house_position_天河:house_decorate_精装:elevator</th>        <td>   -0.4001</td> <td>    0.309</td> <td>   -1.295</td> <td> 0.195</td> <td>   -1.005</td> <td>    0.205</td>\n",
       "</tr>\n",
       "<tr>\n",
       "  <th>house_position_海珠:house_decorate_简装:elevator</th>        <td>   -0.4037</td> <td>    0.422</td> <td>   -0.956</td> <td> 0.339</td> <td>   -1.231</td> <td>    0.424</td>\n",
       "</tr>\n",
       "<tr>\n",
       "  <th>house_position_海珠:house_decorate_精装:elevator</th>        <td>   -0.6933</td> <td>    0.422</td> <td>   -1.643</td> <td> 0.100</td> <td>   -1.520</td> <td>    0.134</td>\n",
       "</tr>\n",
       "<tr>\n",
       "  <th>house_position_番禺:house_decorate_简装:elevator</th>        <td>    0.0749</td> <td>    0.282</td> <td>    0.265</td> <td> 0.791</td> <td>   -0.478</td> <td>    0.628</td>\n",
       "</tr>\n",
       "<tr>\n",
       "  <th>house_position_番禺:house_decorate_精装:elevator</th>        <td>   -0.1438</td> <td>    0.275</td> <td>   -0.522</td> <td> 0.601</td> <td>   -0.683</td> <td>    0.396</td>\n",
       "</tr>\n",
       "<tr>\n",
       "  <th>house_position_白云:house_decorate_简装:elevator</th>        <td>   -0.4797</td> <td>    0.291</td> <td>   -1.648</td> <td> 0.099</td> <td>   -1.050</td> <td>    0.091</td>\n",
       "</tr>\n",
       "<tr>\n",
       "  <th>house_position_白云:house_decorate_精装:elevator</th>        <td>   -0.6108</td> <td>    0.285</td> <td>   -2.143</td> <td> 0.032</td> <td>   -1.169</td> <td>   -0.052</td>\n",
       "</tr>\n",
       "<tr>\n",
       "  <th>house_position_花都:house_decorate_简装:elevator</th>        <td>   -0.9394</td> <td>    0.425</td> <td>   -2.211</td> <td> 0.027</td> <td>   -1.772</td> <td>   -0.107</td>\n",
       "</tr>\n",
       "<tr>\n",
       "  <th>house_position_花都:house_decorate_精装:elevator</th>        <td>   -0.7145</td> <td>    0.433</td> <td>   -1.651</td> <td> 0.099</td> <td>   -1.563</td> <td>    0.134</td>\n",
       "</tr>\n",
       "<tr>\n",
       "  <th>house_position_荔湾:house_decorate_简装:elevator</th>        <td>   -0.6963</td> <td>    0.368</td> <td>   -1.891</td> <td> 0.059</td> <td>   -1.418</td> <td>    0.025</td>\n",
       "</tr>\n",
       "<tr>\n",
       "  <th>house_position_荔湾:house_decorate_精装:elevator</th>        <td>   -0.7480</td> <td>    0.366</td> <td>   -2.045</td> <td> 0.041</td> <td>   -1.465</td> <td>   -0.031</td>\n",
       "</tr>\n",
       "<tr>\n",
       "  <th>house_position_越秀:house_decorate_简装:elevator</th>        <td>    0.1574</td> <td>    0.231</td> <td>    0.683</td> <td> 0.495</td> <td>   -0.294</td> <td>    0.609</td>\n",
       "</tr>\n",
       "<tr>\n",
       "  <th>house_position_越秀:house_decorate_精装:elevator</th>        <td>   -0.2504</td> <td>    0.272</td> <td>   -0.921</td> <td> 0.357</td> <td>   -0.783</td> <td>    0.282</td>\n",
       "</tr>\n",
       "<tr>\n",
       "  <th>house_position_黄埔:house_decorate_简装:elevator</th>        <td>   -0.0889</td> <td>    0.202</td> <td>   -0.441</td> <td> 0.660</td> <td>   -0.485</td> <td>    0.307</td>\n",
       "</tr>\n",
       "<tr>\n",
       "  <th>house_position_黄埔:house_decorate_精装:elevator</th>        <td>   -0.1246</td> <td>    0.199</td> <td>   -0.625</td> <td> 0.532</td> <td>   -0.515</td> <td>    0.266</td>\n",
       "</tr>\n",
       "<tr>\n",
       "  <th>subway:house_decorate_简装:elevator</th>                   <td>    0.2257</td> <td>    0.336</td> <td>    0.672</td> <td> 0.502</td> <td>   -0.433</td> <td>    0.885</td>\n",
       "</tr>\n",
       "<tr>\n",
       "  <th>subway:house_decorate_精装:elevator</th>                   <td>   -0.4399</td> <td>    0.319</td> <td>   -1.379</td> <td> 0.168</td> <td>   -1.065</td> <td>    0.185</td>\n",
       "</tr>\n",
       "<tr>\n",
       "  <th>house_position_天河:subway:house_decorate_简装:elevator</th> <td>   -0.4137</td> <td>    0.448</td> <td>   -0.922</td> <td> 0.356</td> <td>   -1.293</td> <td>    0.465</td>\n",
       "</tr>\n",
       "<tr>\n",
       "  <th>house_position_天河:subway:house_decorate_精装:elevator</th> <td>    0.2848</td> <td>    0.438</td> <td>    0.650</td> <td> 0.516</td> <td>   -0.574</td> <td>    1.144</td>\n",
       "</tr>\n",
       "<tr>\n",
       "  <th>house_position_海珠:subway:house_decorate_简装:elevator</th> <td>   -0.1020</td> <td>    0.504</td> <td>   -0.202</td> <td> 0.840</td> <td>   -1.090</td> <td>    0.886</td>\n",
       "</tr>\n",
       "<tr>\n",
       "  <th>house_position_海珠:subway:house_decorate_精装:elevator</th> <td>    0.7194</td> <td>    0.497</td> <td>    1.447</td> <td> 0.148</td> <td>   -0.255</td> <td>    1.694</td>\n",
       "</tr>\n",
       "<tr>\n",
       "  <th>house_position_番禺:subway:house_decorate_简装:elevator</th> <td>   -1.1856</td> <td>    0.420</td> <td>   -2.821</td> <td> 0.005</td> <td>   -2.009</td> <td>   -0.362</td>\n",
       "</tr>\n",
       "<tr>\n",
       "  <th>house_position_番禺:subway:house_decorate_精装:elevator</th> <td>   -0.3461</td> <td>    0.409</td> <td>   -0.846</td> <td> 0.398</td> <td>   -1.148</td> <td>    0.456</td>\n",
       "</tr>\n",
       "<tr>\n",
       "  <th>house_position_白云:subway:house_decorate_简装:elevator</th> <td>   -0.2611</td> <td>    0.326</td> <td>   -0.801</td> <td> 0.423</td> <td>   -0.900</td> <td>    0.378</td>\n",
       "</tr>\n",
       "<tr>\n",
       "  <th>house_position_白云:subway:house_decorate_精装:elevator</th> <td>    0.2809</td> <td>    0.312</td> <td>    0.900</td> <td> 0.368</td> <td>   -0.331</td> <td>    0.893</td>\n",
       "</tr>\n",
       "<tr>\n",
       "  <th>house_position_花都:subway:house_decorate_简装:elevator</th> <td>   -0.5465</td> <td>    0.354</td> <td>   -1.543</td> <td> 0.123</td> <td>   -1.241</td> <td>    0.148</td>\n",
       "</tr>\n",
       "<tr>\n",
       "  <th>house_position_花都:subway:house_decorate_精装:elevator</th> <td>    0.2400</td> <td>    0.348</td> <td>    0.690</td> <td> 0.490</td> <td>   -0.442</td> <td>    0.922</td>\n",
       "</tr>\n",
       "<tr>\n",
       "  <th>house_position_荔湾:subway:house_decorate_简装:elevator</th> <td>   -0.3145</td> <td>    0.561</td> <td>   -0.561</td> <td> 0.575</td> <td>   -1.413</td> <td>    0.784</td>\n",
       "</tr>\n",
       "<tr>\n",
       "  <th>house_position_荔湾:subway:house_decorate_精装:elevator</th> <td>    0.2161</td> <td>    0.554</td> <td>    0.390</td> <td> 0.696</td> <td>   -0.869</td> <td>    1.301</td>\n",
       "</tr>\n",
       "<tr>\n",
       "  <th>house_position_越秀:subway:house_decorate_简装:elevator</th> <td>   -0.6711</td> <td>    0.355</td> <td>   -1.892</td> <td> 0.059</td> <td>   -1.367</td> <td>    0.024</td>\n",
       "</tr>\n",
       "<tr>\n",
       "  <th>house_position_越秀:subway:house_decorate_精装:elevator</th> <td>    0.3292</td> <td>    0.379</td> <td>    0.869</td> <td> 0.385</td> <td>   -0.413</td> <td>    1.072</td>\n",
       "</tr>\n",
       "<tr>\n",
       "  <th>house_position_黄埔:subway:house_decorate_简装:elevator</th> <td>   -0.5163</td> <td>    0.281</td> <td>   -1.835</td> <td> 0.067</td> <td>   -1.068</td> <td>    0.035</td>\n",
       "</tr>\n",
       "<tr>\n",
       "  <th>house_position_黄埔:subway:house_decorate_精装:elevator</th> <td>    0.0948</td> <td>    0.274</td> <td>    0.346</td> <td> 0.729</td> <td>   -0.442</td> <td>    0.632</td>\n",
       "</tr>\n",
       "<tr>\n",
       "  <th>area_ln</th>                                             <td>   -0.0676</td> <td>    0.016</td> <td>   -4.286</td> <td> 0.000</td> <td>   -0.098</td> <td>   -0.037</td>\n",
       "</tr>\n",
       "<tr>\n",
       "  <th>room_num</th>                                            <td>    0.0077</td> <td>    0.007</td> <td>    1.067</td> <td> 0.286</td> <td>   -0.006</td> <td>    0.022</td>\n",
       "</tr>\n",
       "<tr>\n",
       "  <th>keting_num</th>                                          <td>    0.0226</td> <td>    0.007</td> <td>    3.133</td> <td> 0.002</td> <td>    0.008</td> <td>    0.037</td>\n",
       "</tr>\n",
       "</table>\n",
       "<table class=\"simpletable\">\n",
       "<tr>\n",
       "  <th>Omnibus:</th>       <td>102.141</td> <th>  Durbin-Watson:     </th> <td>   1.013</td>\n",
       "</tr>\n",
       "<tr>\n",
       "  <th>Prob(Omnibus):</th> <td> 0.000</td>  <th>  Jarque-Bera (JB):  </th> <td>  66.097</td>\n",
       "</tr>\n",
       "<tr>\n",
       "  <th>Skew:</th>          <td>-0.002</td>  <th>  Prob(JB):          </th> <td>4.44e-15</td>\n",
       "</tr>\n",
       "<tr>\n",
       "  <th>Kurtosis:</th>      <td> 2.618</td>  <th>  Cond. No.          </th> <td>1.31e+16</td>\n",
       "</tr>\n",
       "</table><br/><br/>Warnings:<br/>[1] Standard Errors assume that the covariance matrix of the errors is correctly specified.<br/>[2] The smallest eigenvalue is 1.86e-27. This might indicate that there are<br/>strong multicollinearity problems or that the design matrix is singular."
      ],
      "text/plain": [
       "<class 'statsmodels.iolib.summary.Summary'>\n",
       "\"\"\"\n",
       "                            OLS Regression Results                            \n",
       "==============================================================================\n",
       "Dep. Variable:          unit_price_ln   R-squared:                       0.524\n",
       "Model:                            OLS   Adj. R-squared:                  0.519\n",
       "Method:                 Least Squares   F-statistic:                     115.0\n",
       "Date:                Sun, 07 Apr 2019   Prob (F-statistic):               0.00\n",
       "Time:                        15:18:28   Log-Likelihood:                -2745.3\n",
       "No. Observations:               10878   AIC:                             5699.\n",
       "Df Residuals:                   10774   BIC:                             6457.\n",
       "Df Model:                         103                                         \n",
       "Covariance Type:            nonrobust                                         \n",
       "=======================================================================================================================\n",
       "                                                          coef    std err          t      P>|t|      [0.025      0.975]\n",
       "-----------------------------------------------------------------------------------------------------------------------\n",
       "Intercept                                               1.0350      0.228      4.539      0.000       0.588       1.482\n",
       "house_position_天河                                       0.2640      0.271      0.974      0.330      -0.267       0.795\n",
       "house_position_海珠                                      -0.1165      0.383     -0.304      0.761      -0.868       0.635\n",
       "house_position_番禺                                      -0.0187      0.256     -0.073      0.942      -0.520       0.482\n",
       "house_position_白云                                      -0.2954      0.245     -1.207      0.227      -0.775       0.184\n",
       "house_position_花都                                      -1.3076      0.383     -3.411      0.001      -2.059      -0.556\n",
       "house_position_荔湾                                      -0.3902      0.313     -1.247      0.212      -1.004       0.223\n",
       "house_position_越秀                                       0.5085      0.167      3.036      0.002       0.180       0.837\n",
       "house_position_黄埔                                      -0.1608      0.129     -1.242      0.214      -0.415       0.093\n",
       "subway                                                  0.0261      0.225      0.116      0.908      -0.415       0.467\n",
       "house_position_天河:subway                               -0.0373      0.315     -0.119      0.906      -0.654       0.579\n",
       "house_position_海珠:subway                                0.4377      0.384      1.141      0.254      -0.314       1.190\n",
       "house_position_番禺:subway                               -0.4071      0.288     -1.414      0.157      -0.971       0.157\n",
       "house_position_白云:subway                               -0.1047      0.218     -0.480      0.631      -0.532       0.323\n",
       "house_position_花都:subway                                0.0173      0.229      0.075      0.940      -0.431       0.465\n",
       "house_position_荔湾:subway                                0.3482      0.384      0.908      0.364      -0.404       1.100\n",
       "house_position_越秀:subway                               -0.0927      0.227     -0.408      0.683      -0.538       0.352\n",
       "house_position_黄埔:subway                               -0.3050      0.259     -1.177      0.239      -0.813       0.203\n",
       "house_decorate_简装                                      -0.2608      0.234     -1.115      0.265      -0.719       0.198\n",
       "house_decorate_精装                                      -0.2935      0.228     -1.287      0.198      -0.741       0.154\n",
       "house_position_天河:house_decorate_简装                     0.1109      0.282      0.393      0.694      -0.442       0.664\n",
       "house_position_天河:house_decorate_精装                     0.2542      0.279      0.911      0.362      -0.293       0.801\n",
       "house_position_海珠:house_decorate_简装                     0.3634      0.392      0.927      0.354      -0.405       1.131\n",
       "house_position_海珠:house_decorate_精装                     0.6072      0.393      1.544      0.123      -0.164       1.378\n",
       "house_position_番禺:house_decorate_简装                    -0.0033      0.267     -0.012      0.990      -0.527       0.520\n",
       "house_position_番禺:house_decorate_精装                     0.2151      0.263      0.819      0.413      -0.300       0.730\n",
       "house_position_白云:house_decorate_简装                     0.3029      0.256      1.181      0.238      -0.200       0.806\n",
       "house_position_白云:house_decorate_精装                     0.4724      0.252      1.874      0.061      -0.022       0.967\n",
       "house_position_花都:house_decorate_简装                     0.8368      0.411      2.035      0.042       0.031       1.643\n",
       "house_position_花都:house_decorate_精装                     0.6434      0.418      1.540      0.124      -0.175       1.462\n",
       "house_position_荔湾:house_decorate_简装                     0.4230      0.323      1.308      0.191      -0.211       1.057\n",
       "house_position_荔湾:house_decorate_精装                     0.4552      0.322      1.412      0.158      -0.177       1.087\n",
       "house_position_越秀:house_decorate_简装                     0.0989      0.189      0.524      0.601      -0.271       0.469\n",
       "house_position_越秀:house_decorate_精装                     0.3488      0.215      1.622      0.105      -0.073       0.770\n",
       "house_position_黄埔:house_decorate_简装                     0.0250      0.145      0.172      0.864      -0.260       0.310\n",
       "house_position_黄埔:house_decorate_精装                    -0.0405      0.146     -0.277      0.782      -0.327       0.246\n",
       "subway:house_decorate_简装                               -0.2438      0.293     -0.832      0.405      -0.818       0.330\n",
       "subway:house_decorate_精装                                0.3148      0.291      1.083      0.279      -0.255       0.885\n",
       "house_position_天河:subway:house_decorate_简装              0.3344      0.367      0.910      0.363      -0.386       1.054\n",
       "house_position_天河:subway:house_decorate_精装             -0.2315      0.368     -0.628      0.530      -0.954       0.491\n",
       "house_position_海珠:subway:house_decorate_简装             -0.1666      0.428     -0.389      0.697      -1.006       0.672\n",
       "house_position_海珠:subway:house_decorate_精装             -0.8918      0.431     -2.069      0.039      -1.737      -0.047\n",
       "house_position_番禺:subway:house_decorate_简装              0.7539      0.345      2.188      0.029       0.078       1.429\n",
       "house_position_番禺:subway:house_decorate_精装              0.1042      0.345      0.302      0.763      -0.572       0.781\n",
       "house_position_白云:subway:house_decorate_简装              0.3627      0.287      1.262      0.207      -0.201       0.926\n",
       "house_position_白云:subway:house_decorate_精装             -0.1481      0.288     -0.514      0.607      -0.713       0.417\n",
       "house_position_花都:subway:house_decorate_简装              0.3391      0.313      1.084      0.278      -0.274       0.952\n",
       "house_position_花都:subway:house_decorate_精装             -0.0526      0.320     -0.164      0.869      -0.679       0.574\n",
       "house_position_荔湾:subway:house_decorate_简装             -0.0477      0.428     -0.111      0.911      -0.888       0.792\n",
       "house_position_荔湾:subway:house_decorate_精装             -0.5209      0.430     -1.210      0.226      -1.365       0.323\n",
       "house_position_越秀:subway:house_decorate_简装              0.2969      0.298      0.996      0.319      -0.287       0.881\n",
       "house_position_越秀:subway:house_decorate_精装             -0.4503      0.320     -1.408      0.159      -1.077       0.177\n",
       "house_position_黄埔:subway:house_decorate_简装              0.6670      0.318      2.097      0.036       0.044       1.290\n",
       "house_position_黄埔:subway:house_decorate_精装              0.2440      0.321      0.759      0.448      -0.386       0.874\n",
       "elevator                                               -0.6086      0.227     -2.679      0.007      -1.054      -0.163\n",
       "house_position_天河:elevator                              0.8275      0.300      2.757      0.006       0.239       1.416\n",
       "house_position_海珠:elevator                              0.9909      0.411      2.409      0.016       0.185       1.797\n",
       "house_position_番禺:elevator                              0.3509      0.267      1.316      0.188      -0.172       0.874\n",
       "house_position_白云:elevator                              0.9145      0.277      3.307      0.001       0.372       1.457\n",
       "house_position_花都:elevator                              1.4333      0.395      3.632      0.000       0.660       2.207\n",
       "house_position_荔湾:elevator                              1.2834      0.354      3.629      0.000       0.590       1.977\n",
       "house_position_越秀:elevator                              0.2488      0.198      1.258      0.208      -0.139       0.636\n",
       "house_position_黄埔:elevator                              0.8572      0.184      4.667      0.000       0.497       1.217\n",
       "subway:elevator                                         0.4826      0.232      2.077      0.038       0.027       0.938\n",
       "house_position_天河:subway:elevator                      -0.2305      0.375     -0.614      0.539      -0.966       0.505\n",
       "house_position_海珠:subway:elevator                      -0.6342      0.440     -1.441      0.150      -1.497       0.229\n",
       "house_position_番禺:subway:elevator                       0.3623      0.341      1.064      0.287      -0.305       1.030\n",
       "house_position_白云:subway:elevator                      -0.2995      0.218     -1.373      0.170      -0.727       0.128\n",
       "house_position_花都:subway:elevator                      -0.5757      0.229     -2.518      0.012      -1.024      -0.128\n",
       "house_position_荔湾:subway:elevator                      -0.3868      0.502     -0.771      0.441      -1.371       0.597\n",
       "house_position_越秀:subway:elevator                      -0.0002      0.256     -0.001      0.999      -0.502       0.502\n",
       "house_position_黄埔:subway:elevator                      -0.4215      0.176     -2.400      0.016      -0.766      -0.077\n",
       "house_decorate_简装:elevator                              0.4008      0.244      1.644      0.100      -0.077       0.879\n",
       "house_decorate_精装:elevator                              0.5309      0.235      2.259      0.024       0.070       0.992\n",
       "house_position_天河:house_decorate_简装:elevator           -0.2582      0.314     -0.822      0.411      -0.874       0.357\n",
       "house_position_天河:house_decorate_精装:elevator           -0.4001      0.309     -1.295      0.195      -1.005       0.205\n",
       "house_position_海珠:house_decorate_简装:elevator           -0.4037      0.422     -0.956      0.339      -1.231       0.424\n",
       "house_position_海珠:house_decorate_精装:elevator           -0.6933      0.422     -1.643      0.100      -1.520       0.134\n",
       "house_position_番禺:house_decorate_简装:elevator            0.0749      0.282      0.265      0.791      -0.478       0.628\n",
       "house_position_番禺:house_decorate_精装:elevator           -0.1438      0.275     -0.522      0.601      -0.683       0.396\n",
       "house_position_白云:house_decorate_简装:elevator           -0.4797      0.291     -1.648      0.099      -1.050       0.091\n",
       "house_position_白云:house_decorate_精装:elevator           -0.6108      0.285     -2.143      0.032      -1.169      -0.052\n",
       "house_position_花都:house_decorate_简装:elevator           -0.9394      0.425     -2.211      0.027      -1.772      -0.107\n",
       "house_position_花都:house_decorate_精装:elevator           -0.7145      0.433     -1.651      0.099      -1.563       0.134\n",
       "house_position_荔湾:house_decorate_简装:elevator           -0.6963      0.368     -1.891      0.059      -1.418       0.025\n",
       "house_position_荔湾:house_decorate_精装:elevator           -0.7480      0.366     -2.045      0.041      -1.465      -0.031\n",
       "house_position_越秀:house_decorate_简装:elevator            0.1574      0.231      0.683      0.495      -0.294       0.609\n",
       "house_position_越秀:house_decorate_精装:elevator           -0.2504      0.272     -0.921      0.357      -0.783       0.282\n",
       "house_position_黄埔:house_decorate_简装:elevator           -0.0889      0.202     -0.441      0.660      -0.485       0.307\n",
       "house_position_黄埔:house_decorate_精装:elevator           -0.1246      0.199     -0.625      0.532      -0.515       0.266\n",
       "subway:house_decorate_简装:elevator                       0.2257      0.336      0.672      0.502      -0.433       0.885\n",
       "subway:house_decorate_精装:elevator                      -0.4399      0.319     -1.379      0.168      -1.065       0.185\n",
       "house_position_天河:subway:house_decorate_简装:elevator    -0.4137      0.448     -0.922      0.356      -1.293       0.465\n",
       "house_position_天河:subway:house_decorate_精装:elevator     0.2848      0.438      0.650      0.516      -0.574       1.144\n",
       "house_position_海珠:subway:house_decorate_简装:elevator    -0.1020      0.504     -0.202      0.840      -1.090       0.886\n",
       "house_position_海珠:subway:house_decorate_精装:elevator     0.7194      0.497      1.447      0.148      -0.255       1.694\n",
       "house_position_番禺:subway:house_decorate_简装:elevator    -1.1856      0.420     -2.821      0.005      -2.009      -0.362\n",
       "house_position_番禺:subway:house_decorate_精装:elevator    -0.3461      0.409     -0.846      0.398      -1.148       0.456\n",
       "house_position_白云:subway:house_decorate_简装:elevator    -0.2611      0.326     -0.801      0.423      -0.900       0.378\n",
       "house_position_白云:subway:house_decorate_精装:elevator     0.2809      0.312      0.900      0.368      -0.331       0.893\n",
       "house_position_花都:subway:house_decorate_简装:elevator    -0.5465      0.354     -1.543      0.123      -1.241       0.148\n",
       "house_position_花都:subway:house_decorate_精装:elevator     0.2400      0.348      0.690      0.490      -0.442       0.922\n",
       "house_position_荔湾:subway:house_decorate_简装:elevator    -0.3145      0.561     -0.561      0.575      -1.413       0.784\n",
       "house_position_荔湾:subway:house_decorate_精装:elevator     0.2161      0.554      0.390      0.696      -0.869       1.301\n",
       "house_position_越秀:subway:house_decorate_简装:elevator    -0.6711      0.355     -1.892      0.059      -1.367       0.024\n",
       "house_position_越秀:subway:house_decorate_精装:elevator     0.3292      0.379      0.869      0.385      -0.413       1.072\n",
       "house_position_黄埔:subway:house_decorate_简装:elevator    -0.5163      0.281     -1.835      0.067      -1.068       0.035\n",
       "house_position_黄埔:subway:house_decorate_精装:elevator     0.0948      0.274      0.346      0.729      -0.442       0.632\n",
       "area_ln                                                -0.0676      0.016     -4.286      0.000      -0.098      -0.037\n",
       "room_num                                                0.0077      0.007      1.067      0.286      -0.006       0.022\n",
       "keting_num                                              0.0226      0.007      3.133      0.002       0.008       0.037\n",
       "==============================================================================\n",
       "Omnibus:                      102.141   Durbin-Watson:                   1.013\n",
       "Prob(Omnibus):                  0.000   Jarque-Bera (JB):               66.097\n",
       "Skew:                          -0.002   Prob(JB):                     4.44e-15\n",
       "Kurtosis:                       2.618   Cond. No.                     1.31e+16\n",
       "==============================================================================\n",
       "\n",
       "Warnings:\n",
       "[1] Standard Errors assume that the covariance matrix of the errors is correctly specified.\n",
       "[2] The smallest eigenvalue is 1.86e-27. This might indicate that there are\n",
       "strong multicollinearity problems or that the design matrix is singular.\n",
       "\"\"\""
      ]
     },
     "execution_count": 30,
     "metadata": {},
     "output_type": "execute_result"
    }
   ],
   "source": [
    "lm3 = ols(\"\"\"unit_price_ln ~ + (house_position_天河+house_position_海珠+house_position_番禺+house_position_白云\n",
    "          + house_position_花都+ house_position_荔湾+house_position_越秀+house_position_黄埔)*subway*(house_decorate_简装+house_decorate_精装)\n",
    "          *elevator+area_ln+room_num+keting_num\"\"\", data=data_9).fit()\n",
    "lm3_summary = lm3.summary()\n",
    "lm3_summary"
   ]
  },
  {
   "cell_type": "code",
   "execution_count": 31,
   "metadata": {},
   "outputs": [
    {
     "data": {
      "text/html": [
       "<div>\n",
       "<style scoped>\n",
       "    .dataframe tbody tr th:only-of-type {\n",
       "        vertical-align: middle;\n",
       "    }\n",
       "\n",
       "    .dataframe tbody tr th {\n",
       "        vertical-align: top;\n",
       "    }\n",
       "\n",
       "    .dataframe thead th {\n",
       "        text-align: right;\n",
       "    }\n",
       "</style>\n",
       "<table border=\"1\" class=\"dataframe\">\n",
       "  <thead>\n",
       "    <tr style=\"text-align: right;\">\n",
       "      <th></th>\n",
       "      <th>0</th>\n",
       "    </tr>\n",
       "  </thead>\n",
       "  <tbody>\n",
       "    <tr>\n",
       "      <th>house_position_天河</th>\n",
       "      <td>1.000000</td>\n",
       "    </tr>\n",
       "    <tr>\n",
       "      <th>house_position_海珠</th>\n",
       "      <td>0.000000</td>\n",
       "    </tr>\n",
       "    <tr>\n",
       "      <th>house_position_番禺</th>\n",
       "      <td>0.000000</td>\n",
       "    </tr>\n",
       "    <tr>\n",
       "      <th>house_position_白云</th>\n",
       "      <td>0.000000</td>\n",
       "    </tr>\n",
       "    <tr>\n",
       "      <th>house_position_花都</th>\n",
       "      <td>0.000000</td>\n",
       "    </tr>\n",
       "    <tr>\n",
       "      <th>house_position_荔湾</th>\n",
       "      <td>0.000000</td>\n",
       "    </tr>\n",
       "    <tr>\n",
       "      <th>house_position_越秀</th>\n",
       "      <td>0.000000</td>\n",
       "    </tr>\n",
       "    <tr>\n",
       "      <th>house_position_黄埔</th>\n",
       "      <td>0.000000</td>\n",
       "    </tr>\n",
       "    <tr>\n",
       "      <th>floor_中楼层</th>\n",
       "      <td>1.000000</td>\n",
       "    </tr>\n",
       "    <tr>\n",
       "      <th>floor_低楼层</th>\n",
       "      <td>0.000000</td>\n",
       "    </tr>\n",
       "    <tr>\n",
       "      <th>house_decorate_简装</th>\n",
       "      <td>0.000000</td>\n",
       "    </tr>\n",
       "    <tr>\n",
       "      <th>house_decorate_精装</th>\n",
       "      <td>1.000000</td>\n",
       "    </tr>\n",
       "    <tr>\n",
       "      <th>elevator</th>\n",
       "      <td>1.000000</td>\n",
       "    </tr>\n",
       "    <tr>\n",
       "      <th>subway</th>\n",
       "      <td>0.000000</td>\n",
       "    </tr>\n",
       "    <tr>\n",
       "      <th>keting_num</th>\n",
       "      <td>2.000000</td>\n",
       "    </tr>\n",
       "    <tr>\n",
       "      <th>room_num</th>\n",
       "      <td>4.000000</td>\n",
       "    </tr>\n",
       "    <tr>\n",
       "      <th>area</th>\n",
       "      <td>437.000000</td>\n",
       "    </tr>\n",
       "    <tr>\n",
       "      <th>unit_price</th>\n",
       "      <td>12.288400</td>\n",
       "    </tr>\n",
       "    <tr>\n",
       "      <th>pred1</th>\n",
       "      <td>1.269332</td>\n",
       "    </tr>\n",
       "    <tr>\n",
       "      <th>resid1</th>\n",
       "      <td>1.239323</td>\n",
       "    </tr>\n",
       "    <tr>\n",
       "      <th>unit_price_ln</th>\n",
       "      <td>2.508656</td>\n",
       "    </tr>\n",
       "    <tr>\n",
       "      <th>area_ln</th>\n",
       "      <td>6.079933</td>\n",
       "    </tr>\n",
       "  </tbody>\n",
       "</table>\n",
       "</div>"
      ],
      "text/plain": [
       "                            0\n",
       "house_position_天河    1.000000\n",
       "house_position_海珠    0.000000\n",
       "house_position_番禺    0.000000\n",
       "house_position_白云    0.000000\n",
       "house_position_花都    0.000000\n",
       "house_position_荔湾    0.000000\n",
       "house_position_越秀    0.000000\n",
       "house_position_黄埔    0.000000\n",
       "floor_中楼层            1.000000\n",
       "floor_低楼层            0.000000\n",
       "house_decorate_简装    0.000000\n",
       "house_decorate_精装    1.000000\n",
       "elevator             1.000000\n",
       "subway               0.000000\n",
       "keting_num           2.000000\n",
       "room_num             4.000000\n",
       "area               437.000000\n",
       "unit_price          12.288400\n",
       "pred1                1.269332\n",
       "resid1               1.239323\n",
       "unit_price_ln        2.508656\n",
       "area_ln              6.079933"
      ]
     },
     "execution_count": 31,
     "metadata": {},
     "output_type": "execute_result"
    }
   ],
   "source": [
    "test=data_9.head(1)\n",
    "test.T"
   ]
  },
  {
   "cell_type": "code",
   "execution_count": 32,
   "metadata": {},
   "outputs": [
    {
     "name": "stdout",
     "output_type": "stream",
     "text": [
      "单位面积房价： 2.46 万元/平方米\n",
      "总价： 245.67 万元\n"
     ]
    }
   ],
   "source": [
    "import math\n",
    "test['house_position_天河']=0\n",
    "test['house_position_番禺']=1\n",
    "test['floor_中楼层'] = 0\n",
    "test['floor_高楼层'] = 1\n",
    "test['house_decorate_精装'] = 1\n",
    "test['house_decorate_毛坯'] = 0\n",
    "test['room_num']=3\n",
    "test['keting_num']=1\n",
    "test['area_ln']=np.log(100)\n",
    "test['subway']=1\n",
    "test['elevator']=1\n",
    "print(\"单位面积房价：\",round(math.exp(lm3.predict(test)),2),\"万元/平方米\")\n",
    "print(\"总价：\",round(math.exp(lm3.predict(test))*100,2),\"万元\")"
   ]
  }
 ],
 "metadata": {
  "kernelspec": {
   "display_name": "Python 3",
   "language": "python",
   "name": "python3"
  },
  "language_info": {
   "codemirror_mode": {
    "name": "ipython",
    "version": 3
   },
   "file_extension": ".py",
   "mimetype": "text/x-python",
   "name": "python",
   "nbconvert_exporter": "python",
   "pygments_lexer": "ipython3",
   "version": "3.6.5"
  }
 },
 "nbformat": 4,
 "nbformat_minor": 2
}
